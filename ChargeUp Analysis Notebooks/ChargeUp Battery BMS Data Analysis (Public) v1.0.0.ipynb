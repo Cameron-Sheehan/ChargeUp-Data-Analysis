{
 "cells": [
  {
   "cell_type": "markdown",
   "id": "1301fbb0",
   "metadata": {},
   "source": [
    "# ChargeUp! Battery BMS Data Analysis (Public)\n",
    "\n",
    "This notebook provides a framework for the analysis of Battery BMS data used with e-motorcycles and was developed as part of the **ChargeUp!** project (2022-2023), funded by **P4G** (https://p4gpartnerships.org/chargeup). \n",
    "\n",
    "Author: Cameron Sheehan (Research Associate, Energy Futures Lab, Imperial College London)"
   ]
  },
  {
   "cell_type": "markdown",
   "id": "a18d5302",
   "metadata": {},
   "source": [
    "## 1. Import all required packages"
   ]
  },
  {
   "cell_type": "code",
   "execution_count": null,
   "id": "6de9c7c6",
   "metadata": {},
   "outputs": [],
   "source": [
    "import numpy as np\n",
    "import pandas as pd\n",
    "import geopandas as gpd\n",
    "import matplotlib.pyplot as plt\n",
    "from datetime import datetime, timedelta\n",
    "from keplergl import KeplerGl\n",
    "import random\n",
    "from h3 import h3\n",
    "import h3pandas\n",
    "from folium import Map, Marker, GeoJson\n",
    "from folium.plugins import MarkerCluster\n",
    "import branca.colormap as cm\n",
    "from branca.colormap import linear\n",
    "import folium\n",
    "import networkx as nx\n",
    "import osmnx as ox\n",
    "import shapely\n",
    "from shapely.geometry import LineString\n",
    "from shapely.geometry import Point\n",
    "from shapely.geometry import Polygon\n",
    "import pulp\n",
    "from pulp import LpMaximize, LpProblem, LpStatus, lpSum, LpVariable\n",
    "from descartes import PolygonPatch\n",
    "from rasterstats import zonal_stats\n",
    "import pandas as pd\n",
    "from sklearn import preprocessing\n",
    "from sklearn.preprocessing import normalize\n",
    "import movingpandas as mpd\n",
    "import xarray as xr\n",
    "import hvplot.xarray  # noqa\n",
    "import hvplot.pandas \n",
    "from holoviews import opts\n",
    "import seaborn as sns\n",
    "from pytz import common_timezones, all_timezones\n",
    "import warnings\n",
    "from IPython.display import display, HTML\n",
    "\n",
    "display(HTML(\"<style>.output_result { max-width:100% !important; }</style>\"))\n",
    "\n",
    "plt.rcParams['axes.axisbelow'] = True\n",
    "\n",
    "warnings.filterwarnings('ignore')\n",
    "warnings.simplefilter('ignore')"
   ]
  },
  {
   "cell_type": "markdown",
   "id": "02b03c63",
   "metadata": {},
   "source": [
    "## 2. Import Data\n",
    "\n",
    "Open files as dataframes and process column data.\n",
    "\n",
    "First, paste full pathname to the data files below, ensure pathname is inside inverted commas, i.e. '/XXX/XXX/XXX/battery-bms.csv'"
   ]
  },
  {
   "cell_type": "code",
   "execution_count": null,
   "id": "09ed20ae",
   "metadata": {},
   "outputs": [],
   "source": [
    "# Set data file pathnames\n",
    "pathname_battery_gps = ''\n",
    "pathname_battery_bms = ''\n",
    "pathname_BSS_loc = ''"
   ]
  },
  {
   "cell_type": "markdown",
   "id": "0c126695",
   "metadata": {},
   "source": [
    "Next, set the column headings for the required data fields:"
   ]
  },
  {
   "cell_type": "code",
   "execution_count": null,
   "id": "69b5366d",
   "metadata": {},
   "outputs": [],
   "source": [
    "# For BMS and GPS datasets\n",
    "batt_id_col = '' \n",
    "\n",
    "# For GPS dataset\n",
    "gps_timestamp_col = ''\n",
    "gps_lat_col = ''\n",
    "gps_lng_col = ''\n",
    "\n",
    "# For BMS dataset\n",
    "bms_timestamp_col = ''\n",
    "soc_col = ''\n",
    "\n",
    "# For BSS locations dataset\n",
    "BSS_lat_col = ''\n",
    "BSS_lng_col = ''\n",
    "BSS_id_col = '';\n",
    "BSS_loc_name_col = ''"
   ]
  },
  {
   "cell_type": "markdown",
   "id": "b48be880",
   "metadata": {},
   "source": [
    "Read data from csv/parquet files and create pandas dataframes: <br>\n",
    "\n",
    "Note: Uncomment the correct option depending on file types (csv/parquet)"
   ]
  },
  {
   "cell_type": "code",
   "execution_count": null,
   "id": "87152453",
   "metadata": {},
   "outputs": [],
   "source": [
    "# df_battery_gps_raw = pd.read_parquet(pathname_battery_gps) \n",
    "df_battery_gps_raw = pd.read_csv(pathname_battery_gps, header=0) \n",
    "df_battery_gps = pd.DataFrame()\n",
    "\n",
    "df_battery_bms_raw = pd.read_parquet(pathname_battery_bms)\n",
    "# df_battery_bms_raw = pd.read_csv(pathname_battery_bms, header=0) \n",
    "df_battery_bms = pd.DataFrame()\n",
    "\n",
    "# df_BSS_loc_raw = pd.read_parquet(pathname_BSS_loc)\n",
    "df_BSS_loc_raw = pd.read_csv(pathname_BSS_loc, header=0)\n",
    "df_BSS_loc = pd.DataFrame()"
   ]
  },
  {
   "cell_type": "markdown",
   "id": "f2c09912",
   "metadata": {},
   "source": [
    "Assign data columns to correct dataframe column headings for required data fields:"
   ]
  },
  {
   "cell_type": "code",
   "execution_count": null,
   "id": "4d21d5ab",
   "metadata": {},
   "outputs": [],
   "source": [
    "df_battery_gps[['gps_timestamp','batt_id','gps_lat','gps_lng']] = df_battery_gps_raw[[gps_timestamp_col,batt_id_col,gps_lat_col,gps_lng_col]]\n",
    "\n",
    "df_battery_bms[['bms_timestamp','batt_id','soc']] = df_battery_bms_raw[[bms_timestamp_col,batt_id_col,soc_col]]\n",
    "\n",
    "df_BSS_loc[['BSS_id','BSS_loc_name','BSS_lat','BSS_lng']] = df_BSS_loc_raw[[BSS_id_col,BSS_loc_name_col,BSS_lat_col,BSS_lng_col]]"
   ]
  },
  {
   "cell_type": "markdown",
   "id": "993743f3",
   "metadata": {},
   "source": [
    "#### Process data types and required timezones:\n",
    "\n",
    "Note: To check available timezone names, uncomment and run the cell below."
   ]
  },
  {
   "cell_type": "code",
   "execution_count": null,
   "id": "809d734a",
   "metadata": {},
   "outputs": [],
   "source": [
    "# all_timezones"
   ]
  },
  {
   "cell_type": "code",
   "execution_count": null,
   "id": "9130f7a2",
   "metadata": {},
   "outputs": [],
   "source": [
    "# Process battery_gps data\n",
    "df_battery_gps['batt_id'] = df_battery_gps['batt_id'].astype(\"string\")\n",
    "df_battery_gps[\"gps_time\"] = pd.to_datetime(df_battery_gps['gps_timestamp'], unit='s', utc=True).dt.tz_convert('Africa/Nairobi')\n",
    "df_battery_gps = df_battery_gps.sort_values(by=['batt_id','gps_time'])\n",
    "df_battery_gps = df_battery_gps.set_index('gps_time')\n",
    "# df_battery_gps = df_battery_gps.drop(columns=['Time','cmd','date','speed','course','altitude'])\n",
    "\n",
    "# Process battery_bms data\n",
    "df_battery_bms[\"Time\"] = pd.to_datetime(df_battery_bms['bms_timestamp'], unit='s', utc=True).dt.tz_convert('Africa/Nairobi')\n",
    "df_battery_bms['batt_id'] = df_battery_bms['batt_id'].astype(\"string\")\n",
    "df_battery_bms = df_battery_bms.sort_values(by=['batt_id','Time'])\n",
    "df_battery_bms = df_battery_bms.dropna(subset=['Time'])\n",
    "\n",
    "# Process BSS_loc data\n",
    "gdf_BSS_loc = gpd.GeoDataFrame(\n",
    "    df_BSS_loc, geometry=gpd.points_from_xy(df_BSS_loc.BSS_lng, df_BSS_loc.BSS_lat, crs=\"EPSG:4326\"), crs=\"EPSG:4326\")"
   ]
  },
  {
   "cell_type": "markdown",
   "id": "9ce7ff03",
   "metadata": {},
   "source": [
    "## 3. Analyse BMS data"
   ]
  },
  {
   "cell_type": "markdown",
   "id": "902f376b",
   "metadata": {},
   "source": [
    "Check number of unique devices and data entries in dataset:"
   ]
  },
  {
   "cell_type": "code",
   "execution_count": null,
   "id": "cd08fe61",
   "metadata": {},
   "outputs": [],
   "source": [
    "n_batteries = len(df_battery_bms.batt_id.unique())\n",
    "print(\"There are a total of \", n_batteries, \" unique batteries, and \", len(df_battery_bms.index), \" data entries in this BMS dataset\")"
   ]
  },
  {
   "cell_type": "markdown",
   "id": "5e18f8b0",
   "metadata": {},
   "source": [
    "#### Inspect SOC values of all batteries between two dates using a plot:"
   ]
  },
  {
   "cell_type": "code",
   "execution_count": null,
   "id": "ccc0e34d",
   "metadata": {},
   "outputs": [],
   "source": [
    "# Select DataFrame rows between two dates - set start and end dates\n",
    "start_date = '2023-01-16'\n",
    "end_date = '2023-01-18'\n",
    "mask = (df_battery_bms.Time >= start_date) & (df_battery_bms.Time <= end_date)\n",
    "df_battery_bms_t_range = df_battery_bms.loc[mask]"
   ]
  },
  {
   "cell_type": "code",
   "execution_count": null,
   "id": "e05fef0f",
   "metadata": {},
   "outputs": [],
   "source": [
    "ax = sns.relplot(data=df_battery_bms_t_range, hue='batt_id', x='Time', y='soc', \n",
    "                kind='line', height=3, aspect=3, alpha=0.6)\n",
    "ax.fig.autofmt_xdate()"
   ]
  },
  {
   "cell_type": "markdown",
   "id": "4567006c",
   "metadata": {},
   "source": [
    "#### Add time increments for various analyses \n",
    "\n",
    "Note: this method ignores seconds when categorising time increments"
   ]
  },
  {
   "cell_type": "code",
   "execution_count": null,
   "id": "95606034",
   "metadata": {},
   "outputs": [],
   "source": [
    "# Hourly increments\n",
    "df_battery_bms['hr_inc'] = df_battery_bms['Time'].dt.hour + np.ceil(df_battery_bms['Time'].dt.minute/60)\n",
    "df_battery_bms.loc[df_battery_bms['hr_inc']==0, 'hr_inc'] = 24\n",
    "df_battery_bms['hr_inc'] = df_battery_bms['hr_inc'].astype('int')\n",
    "\n",
    "# 30 minute increments\n",
    "df_battery_bms['30_mins_inc'] = df_battery_bms['Time'].dt.hour + np.ceil(df_battery_bms['Time'].dt.minute/30)*30/60\n",
    "df_battery_bms.loc[df_battery_bms['30_mins_inc']==0, '30_mins_inc'] = 24\n",
    "\n",
    "# 15 minute increments\n",
    "df_battery_bms['15_mins_inc'] = df_battery_bms['Time'].dt.hour + np.ceil(df_battery_bms['Time'].dt.minute/15)*15/60\n",
    "df_battery_bms.loc[df_battery_bms['15_mins_inc']==0, '15_mins_inc'] = 24"
   ]
  },
  {
   "cell_type": "markdown",
   "id": "2192a819",
   "metadata": {},
   "source": [
    "Check resulting time increments by viewing the dataframe"
   ]
  },
  {
   "cell_type": "code",
   "execution_count": null,
   "id": "208475ca",
   "metadata": {},
   "outputs": [],
   "source": [
    "df_battery_bms.head()"
   ]
  },
  {
   "cell_type": "markdown",
   "id": "ffc27040",
   "metadata": {},
   "source": [
    "## 4. Calculate energy usage based on battery SOC changes\n",
    "\n",
    "First, set the capacity of the batteries that were in the dataset:"
   ]
  },
  {
   "cell_type": "code",
   "execution_count": null,
   "id": "919824f5",
   "metadata": {},
   "outputs": [],
   "source": [
    "batt_cap =  # battery capacity in kWh"
   ]
  },
  {
   "cell_type": "markdown",
   "id": "36b46362",
   "metadata": {},
   "source": [
    "Then, calculate energy changes and classify different entries as charging:"
   ]
  },
  {
   "cell_type": "code",
   "execution_count": null,
   "id": "27f958d6",
   "metadata": {},
   "outputs": [],
   "source": [
    "# Initialise 'charging' column values to be zero\n",
    "df_battery_bms['charging'] = 0.0\n",
    "# Calculate change in SOC values of each battery between successive time entries\n",
    "df_battery_bms['soc_change'] = df_battery_bms.groupby(['batt_id'])['soc'].diff().fillna(0)\n",
    "# Calculate energy change based on SOC change and battery capacity i.e. energy change (kWh) = SOC (%) x Battery Cap. (kWh)\n",
    "df_battery_bms['energy_change'] = df_battery_bms['soc_change']/100*batt_cap\n",
    "# Calculate time difference between successive time entries for each battery\n",
    "df_battery_bms['t_diff'] = df_battery_bms.groupby(['batt_id'])['Time'].diff().dt.seconds.div(60, fill_value=0)\n",
    "# Classify battery as charging (i.e. 'charging' = 1) if SOC change is positive\n",
    "df_battery_bms.loc[df_battery_bms['soc_change']>0, 'charging'] = 1\n",
    "# Remove entries where SOC change is greater than 20% in less than 5 mins (very fast change unlikely) - values can be adjusted\n",
    "df_battery_bms = df_battery_bms.drop(df_battery_bms[(abs(df_battery_bms['soc_change'])>20) & (df_battery_bms['t_diff']<=5)].index)\n",
    "# Create subset of battery_bms data for all entries classified as charging / in use\n",
    "df_battery_bms_ch = df_battery_bms[df_battery_bms['charging']==1]\n",
    "df_battery_bms_use = df_battery_bms[df_battery_bms['charging']==0]\n",
    "# Determine the total number of days where charging occurred\n",
    "total_ch_days = df_battery_bms_ch['Time'].dt.date.nunique()\n",
    "# Determine the total number of batteries that were charged at some point within the dataset \n",
    "total_ch_devices = df_battery_bms_ch['batt_id'].nunique()\n",
    "\n",
    "# Display the updated battery bms dataframe\n",
    "df_battery_bms.head()"
   ]
  },
  {
   "cell_type": "code",
   "execution_count": null,
   "id": "d827489e",
   "metadata": {},
   "outputs": [],
   "source": [
    "# Display the charging subset of battery bms dataframe\n",
    "df_battery_bms_ch.head()"
   ]
  },
  {
   "cell_type": "markdown",
   "id": "43c1040c",
   "metadata": {},
   "source": [
    "#### Calculate total energy values"
   ]
  },
  {
   "cell_type": "code",
   "execution_count": null,
   "id": "42c2d55b",
   "metadata": {},
   "outputs": [],
   "source": [
    "total_ch_energy = df_battery_bms_ch['energy_change'].sum()\n",
    "print('The total amount of energy used for charging during the analysis period  was: \\n', np.round(total_ch_energy, decimals = 2),' kWh' )"
   ]
  },
  {
   "cell_type": "code",
   "execution_count": null,
   "id": "2a6b9ab4",
   "metadata": {},
   "outputs": [],
   "source": [
    "total_used_energy = -df_battery_bms_use['energy_change'].sum()\n",
    "print('The total amount of energy used by the e-motorycles during the analysis period  was: \\n', np.round(total_used_energy, decimals = 2),' kWh' )"
   ]
  },
  {
   "cell_type": "markdown",
   "id": "facfb44c",
   "metadata": {},
   "source": [
    "#### Calculate average Energy Intensity (kWh/km) and estimated range of e-motorcycles in dataset"
   ]
  },
  {
   "cell_type": "code",
   "execution_count": null,
   "id": "99afcec6",
   "metadata": {},
   "outputs": [],
   "source": [
    "# Input total distance of vehicles in dataset using the value from the GPS data analysis:\n",
    "total_distance_all_vehicles =  \n",
    "\n",
    "# Caluclate the average energy intensity\n",
    "energy_intensity_avg = total_used_energy/total_distance_all_vehicles\n",
    "\n",
    "print('The average energy intensity of the e-motorycles during the analysis period  was: \\n', np.round(energy_intensity_avg, decimals = 3),' kWh/km' )"
   ]
  },
  {
   "cell_type": "code",
   "execution_count": null,
   "id": "7c69be21",
   "metadata": {},
   "outputs": [],
   "source": [
    "estimated_battery_range = batt_cap/energy_intensity_avg\n",
    "\n",
    "print('The estimated range of the batteries used with the e-motorycles during the analysis period  was: \\n', np.round(estimated_battery_range, decimals = 2),' km' )"
   ]
  },
  {
   "cell_type": "markdown",
   "id": "94023a03",
   "metadata": {},
   "source": [
    "## 5. Determine where charging events occurred\n",
    "\n",
    "#### Merge BMS and GPS datasets into a single dataframe"
   ]
  },
  {
   "cell_type": "code",
   "execution_count": null,
   "id": "a223e436",
   "metadata": {},
   "outputs": [],
   "source": [
    "df_battery_gps=df_battery_gps.reset_index()\n",
    "\n",
    "# Create a 'Time' column that both datasets could be merged on \n",
    "df_battery_gps['Time'] = df_battery_gps['gps_time']\n",
    "df_battery_bms['Time_bms'] = df_battery_bms['Time']\n",
    "\n",
    "# Sort dataframes by time\n",
    "df_battery_gps_s = df_battery_gps.sort_values(['Time'])\n",
    "df_battery_bms_s = df_battery_bms.sort_values(['Time'])\n",
    "\n",
    "# Merge the BMS and GPS datsets using the battery ID's and the closest times of the datapoints (max 30 seconds difference, value can be changed).\n",
    "df_merged_bms_gps = pd.merge_asof(df_battery_gps_s,df_battery_bms_s, on=\"Time\", by='batt_id', direction='nearest', suffixes=('_gps', '_bms'), tolerance=pd.Timedelta(seconds=30))\n",
    "# Drop rows that contain an NA value in the soc column\n",
    "df_merged_bms_gps = df_merged_bms_gps.dropna(subset=['soc'])\n",
    "# Drop duplicates where the same BMS datapoint was assigned to more than one GPS datapoint (keeps first value)\n",
    "df_merged_bms_gps = df_merged_bms_gps.drop_duplicates(subset=['Time_bms','batt_id'])\n",
    "\n",
    "# Display merged dataset\n",
    "df_merged_bms_gps.head()"
   ]
  },
  {
   "cell_type": "markdown",
   "id": "4d0455dc",
   "metadata": {},
   "source": [
    "#### Recalculate SOC and Time difference values between each entry since the number of entries changed after merging"
   ]
  },
  {
   "cell_type": "code",
   "execution_count": null,
   "id": "66bc55d4",
   "metadata": {},
   "outputs": [],
   "source": [
    "# Initialise 'charging' column values to be zero\n",
    "df_merged_bms_gps['charging'] = 0\n",
    "# Calculate change in SOC values of each battery between successive time entries\n",
    "df_merged_bms_gps['soc_change'] = df_merged_bms_gps.groupby(['batt_id'])['soc'].diff().fillna(0)\n",
    "# Calculate energy change based on SOC change and battery capacity i.e. energy change (kWh) = SOC (%) x Battery Cap. (kWh)\n",
    "df_merged_bms_gps['energy_change'] = df_merged_bms_gps['soc_change']/100*batt_cap\n",
    "# Calculate time difference between successive time entries for each battery\n",
    "df_merged_bms_gps['t_diff'] = df_merged_bms_gps.groupby(['batt_id'])['Time_bms'].diff().dt.seconds.div(60, fill_value=0)\n",
    "# Classify battery as charging (i.e. 'charging' = 1) if SOC change is positive\n",
    "df_merged_bms_gps.loc[df_merged_bms_gps['soc_change']>0, 'charging'] = 1\n",
    "# Remove entries where SOC change is greater than 20% in less than 5 mins (very fast change unlikely) - values can be adjusted\n",
    "df_merged_bms_gps = df_merged_bms_gps.drop(df_merged_bms_gps[(abs(df_merged_bms_gps['soc_change'])>20) & (df_merged_bms_gps['t_diff']<=5)].index)\n",
    "# Create subset of battery_bms data for all entries classified as charging\n",
    "df_merged_bms_gps_ch = df_merged_bms_gps[df_merged_bms_gps['charging']==1]"
   ]
  },
  {
   "cell_type": "markdown",
   "id": "4c6f7feb",
   "metadata": {},
   "source": [
    "#### Convert dataframes to geodataframes"
   ]
  },
  {
   "cell_type": "code",
   "execution_count": null,
   "id": "a5efd819",
   "metadata": {},
   "outputs": [],
   "source": [
    "gdf_merged_bms_gps = gpd.GeoDataFrame(\n",
    "    df_merged_bms_gps, geometry=gpd.points_from_xy(df_merged_bms_gps.gps_lng, df_merged_bms_gps.gps_lat, crs=\"EPSG:4326\"), crs=\"EPSG:4326\")\n",
    "\n",
    "gdf_merged_bms_gps_ch = gpd.GeoDataFrame(\n",
    "    df_merged_bms_gps_ch, geometry=gpd.points_from_xy(df_merged_bms_gps_ch.gps_lng, df_merged_bms_gps_ch.gps_lat, crs=\"EPSG:4326\"), crs=\"EPSG:4326\")"
   ]
  },
  {
   "cell_type": "markdown",
   "id": "a8a69490",
   "metadata": {},
   "source": [
    "#### Add search region (buffer) around existing BSS locations to use for allocating charging GPS points to BSS location"
   ]
  },
  {
   "cell_type": "code",
   "execution_count": null,
   "id": "a55ac40f",
   "metadata": {},
   "outputs": [],
   "source": [
    "gdf_BSS_loc['geometry'] = gdf_BSS_loc.buffer(0.002)\n",
    "gdf_BSS_loc_uniq = gdf_BSS_loc.drop_duplicates(['geometry'])"
   ]
  },
  {
   "cell_type": "markdown",
   "id": "70df671b",
   "metadata": {},
   "source": [
    "Determine which charging events occurred at the existing BSSs"
   ]
  },
  {
   "cell_type": "code",
   "execution_count": null,
   "id": "786577f0",
   "metadata": {},
   "outputs": [],
   "source": [
    "gdf_merged_bms_gps_ch_at_bss = gdf_merged_bms_gps_ch.sjoin(gdf_BSS_loc_uniq, how=\"inner\", predicate=\"within\")\n",
    "gdf_merged_bms_gps_ch_at_bss['hr_inc'] = gdf_merged_bms_gps_ch_at_bss['hr_inc'].astype('int')"
   ]
  },
  {
   "cell_type": "markdown",
   "id": "e60fcadb",
   "metadata": {},
   "source": [
    "Determine which charging events occurred away from existing BSSs (home/private charging)"
   ]
  },
  {
   "cell_type": "code",
   "execution_count": null,
   "id": "89c9ded2",
   "metadata": {},
   "outputs": [],
   "source": [
    "gdf_merged_bms_gps_ch_at_home = gdf_merged_bms_gps_ch.drop(gdf_merged_bms_gps_ch_at_bss.index)\n",
    "gdf_merged_bms_gps_ch_at_home['hr_inc'] = gdf_merged_bms_gps_ch_at_home['hr_inc'].astype('int')"
   ]
  },
  {
   "cell_type": "markdown",
   "id": "b3336386",
   "metadata": {},
   "source": [
    "### Visualise charging location data\n",
    "\n",
    "#### *Important Data Protection Note: This map contains potentially sensitive location data of individual trips and stops. This map should never be published publicly without the explicit consent of all individuals whose battery GPS data was included in the analysed dataset.*"
   ]
  },
  {
   "cell_type": "code",
   "execution_count": null,
   "id": "5a04c979",
   "metadata": {},
   "outputs": [],
   "source": [
    "m_ch_loc = KeplerGl(height=800)\n",
    "# Add gps records\n",
    "m_ch_loc.add_data(gdf_merged_bms_gps_ch.copy(), 'All merged charging points')\n",
    "m_ch_loc.add_data(gdf_BSS_loc.copy(), 'Existing BSS sites')\n",
    "m_ch_loc.add_data(gdf_merged_bms_gps_ch_at_bss.copy(), 'Charging points within BSS rings')\n",
    "m_ch_loc.add_data(gdf_merged_bms_gps_ch_at_home.copy(), 'Charging points at home')\n",
    "%run 'Kepler configs/map_config_charging_loc.py'\n",
    "m_ch_loc.config = config"
   ]
  },
  {
   "cell_type": "code",
   "execution_count": null,
   "id": "660c9524",
   "metadata": {
    "scrolled": false
   },
   "outputs": [],
   "source": [
    "m_ch_loc"
   ]
  },
  {
   "cell_type": "code",
   "execution_count": null,
   "id": "10921c20",
   "metadata": {},
   "outputs": [],
   "source": [
    "# with open('Kepler configs/map_config_charging_loc.py', 'w') as f:\n",
    "#    f.write('config = {}'.format(m_ch_loc.config))"
   ]
  },
  {
   "cell_type": "markdown",
   "id": "1a20b4e0",
   "metadata": {},
   "source": [
    "## 6. Create bar plots of the aggregated charging energy over entire analysis period\n"
   ]
  },
  {
   "cell_type": "markdown",
   "id": "0cd6e59d",
   "metadata": {},
   "source": [
    "#### Set charging efficiency to determine amount of actual energy used to charge battery"
   ]
  },
  {
   "cell_type": "code",
   "execution_count": null,
   "id": "ade8fcf8",
   "metadata": {},
   "outputs": [],
   "source": [
    "charging_efficiency = ;"
   ]
  },
  {
   "cell_type": "markdown",
   "id": "42923641",
   "metadata": {},
   "source": [
    "#### All charging energy usage aggregated for every hour of day"
   ]
  },
  {
   "cell_type": "code",
   "execution_count": null,
   "id": "02144cbd",
   "metadata": {},
   "outputs": [],
   "source": [
    "df_battery_bms_ch_energy_hr = df_battery_bms_ch.groupby('hr_inc').energy_change.agg('sum').to_frame('tot_ch_energy')/charging_efficiency\n",
    "ax = df_battery_bms_ch_energy_hr.plot.bar(figsize=(8,3), color=\"blue\", width=0.8, rot=45, legend=False)\n",
    "# ax.set_title('All charging energy usage aggregated for every hour of day')\n",
    "ax.set_title('')\n",
    "ax.set_xlabel(\"Time period (hours)\");\n",
    "ax.set_ylabel(\"Total Charging Energy (kWh)\");"
   ]
  },
  {
   "cell_type": "code",
   "execution_count": null,
   "id": "b5962f4f",
   "metadata": {},
   "outputs": [],
   "source": [
    "# ax.figure.savefig(\"images/Charging energy usage aggregated for every hour of day.png\", bbox_inches='tight')"
   ]
  },
  {
   "cell_type": "markdown",
   "id": "f6e78802",
   "metadata": {},
   "source": [
    "#### All charging energy usage aggregated for every 30 mins of day"
   ]
  },
  {
   "cell_type": "code",
   "execution_count": null,
   "id": "043e6168",
   "metadata": {},
   "outputs": [],
   "source": [
    "df_battery_bms_ch_energy_30_mins = df_battery_bms_ch.groupby('30_mins_inc').energy_change.agg('sum').to_frame('tot_ch_energy')/charging_efficiency\n",
    "ax = df_battery_bms_ch_energy_30_mins.plot.bar(figsize=(10,3), color=\"blue\", width=0.8, rot=90, legend=False)\n",
    "# ax.set_title('Battery swap station charging energy usage aggregated for every 30 mins of day')\n",
    "ax.set_title('')\n",
    "ax.set_xlabel(\"Time period (hours)\");\n",
    "ax.set_ylabel(\"Total Charging Energy (kWh)\");"
   ]
  },
  {
   "cell_type": "code",
   "execution_count": null,
   "id": "097031f1",
   "metadata": {},
   "outputs": [],
   "source": [
    "# ax.figure.savefig(\"images/Charging energy usage aggregated for every 30 mins of day.png\", bbox_inches='tight')"
   ]
  },
  {
   "cell_type": "markdown",
   "id": "3bb0bef4",
   "metadata": {},
   "source": [
    "#### BSS charging energy usage aggregated for every hour of day"
   ]
  },
  {
   "cell_type": "code",
   "execution_count": null,
   "id": "78ff80b0",
   "metadata": {},
   "outputs": [],
   "source": [
    "df_merged_bms_gps_ch_energy_at_bss_hr = gdf_merged_bms_gps_ch_at_bss.groupby('hr_inc').energy_change.agg('sum').to_frame('tot_ch_energy')/charging_efficiency\n",
    "ax = df_merged_bms_gps_ch_energy_at_bss_hr.plot.bar(figsize=(8,3), color=\"blue\", width=0.8, rot=45, legend=False)\n",
    "# ax.set_title('Battery swap station charging energy usage aggregated for every hour of day')\n",
    "ax.set_title('')\n",
    "ax.set_xlabel(\"Time (hours)\");\n",
    "ax.set_ylabel(\"Total Charging Energy (kWh)\");"
   ]
  },
  {
   "cell_type": "code",
   "execution_count": null,
   "id": "32d3f36a",
   "metadata": {},
   "outputs": [],
   "source": [
    "# ax.figure.savefig(\"images/BSS charging energy usage aggregated for every hour of day.png\", bbox_inches='tight')"
   ]
  },
  {
   "cell_type": "markdown",
   "id": "e47bd2d0",
   "metadata": {},
   "source": [
    "#### BSS charging energy usage aggregated for every half hour of day"
   ]
  },
  {
   "cell_type": "code",
   "execution_count": null,
   "id": "4c3c8cdb",
   "metadata": {},
   "outputs": [],
   "source": [
    "df_merged_bms_gps_ch_energy_at_bss_30_mins = gdf_merged_bms_gps_ch_at_bss.groupby('30_mins_inc').energy_change.agg('sum').to_frame('tot_ch_energy')/charging_efficiency\n",
    "ax = df_merged_bms_gps_ch_energy_at_bss_30_mins.plot.bar(figsize=(10,3), color=\"blue\", width=0.8, rot=90, legend=False)\n",
    "# ax.set_title('Battery swap station charging energy usage aggregated for every hour of day')\n",
    "ax.set_title('')\n",
    "ax.set_xlabel(\"Time (hours)\");\n",
    "ax.set_ylabel(\"Total Charging Energy (kWh)\");"
   ]
  },
  {
   "cell_type": "code",
   "execution_count": null,
   "id": "08ddaf24",
   "metadata": {},
   "outputs": [],
   "source": [
    "# ax.figure.savefig(\"images/BSS charging energy usage aggregated for every half hour of day.png\", bbox_inches='tight')"
   ]
  },
  {
   "cell_type": "markdown",
   "id": "390fceba",
   "metadata": {},
   "source": [
    "#### Private charging energy usage aggregated for every hour of day"
   ]
  },
  {
   "cell_type": "code",
   "execution_count": null,
   "id": "9f850a49",
   "metadata": {},
   "outputs": [],
   "source": [
    "df_merged_bms_gps_ch_energy_at_home_hr = gdf_merged_bms_gps_ch_at_home.groupby('hr_inc').energy_change.agg('sum').to_frame('tot_ch_energy')/charging_efficiency\n",
    "ax = df_merged_bms_gps_ch_energy_at_home_hr.plot.bar(figsize=(8,3), color=\"blue\", width=0.8, rot=45, legend=False)\n",
    "# ax.set_title('Private charging energy usage aggregated for every hour of day')\n",
    "ax.set_title('')\n",
    "ax.set_xlabel(\"Time (hours)\");\n",
    "ax.set_ylabel(\"Total Charging Energy (kWh)\");"
   ]
  },
  {
   "cell_type": "code",
   "execution_count": null,
   "id": "01605062",
   "metadata": {},
   "outputs": [],
   "source": [
    "# ax.figure.savefig(\"images/Private charging energy usage aggregated for every hour of day.png\", bbox_inches='tight')"
   ]
  },
  {
   "cell_type": "markdown",
   "id": "1c79a773",
   "metadata": {},
   "source": [
    "#### Charging energy usage aggregated for every hour of day for different locations\n",
    "\n",
    "Create a single dataframe with categorised charging to use for plotting."
   ]
  },
  {
   "cell_type": "code",
   "execution_count": null,
   "id": "1c92c39b",
   "metadata": {},
   "outputs": [],
   "source": [
    "df_merged_bms_gps_ch_energy_locations = df_merged_bms_gps_ch.copy()\n",
    "df_merged_bms_gps_ch_energy_locations['location'] = ''\n",
    "df_merged_bms_gps_ch_energy_locations.loc[gdf_merged_bms_gps_ch_at_bss.index.to_list(),'location'] = 'BSS'\n",
    "df_merged_bms_gps_ch_energy_locations.loc[gdf_merged_bms_gps_ch_at_home.index.to_list(),'location'] = 'home'\n",
    "df_merged_bms_gps_ch_energy_locations['hr_inc'] = df_merged_bms_gps_ch_energy_locations['hr_inc'].astype('int')\n",
    "# df_merged_bms_gps_ch_energy_locations.iloc[[gdf_merged_bms_gps_ch_at_bss.index.to_list()], 'location'] = 'BSS'"
   ]
  },
  {
   "cell_type": "code",
   "execution_count": null,
   "id": "12262097",
   "metadata": {},
   "outputs": [],
   "source": [
    "df_merged_bms_gps_ch_energy_locations_hr_loc = df_merged_bms_gps_ch_energy_locations.groupby(['hr_inc','location']).energy_change.agg('sum').to_frame('tot_ch_energy')/charging_efficiency\n",
    "ax = df_merged_bms_gps_ch_energy_locations_hr_loc.unstack().plot.bar(figsize=(8,4), width=0.8, rot=45, stacked=False, legend=True, color=['blue','lightblue'])\n",
    "# ax.set_title('Battery swap station charging energy usage aggregated for every hour of day')\n",
    "ax.set_title('');\n",
    "ax.set_xlabel(\"Time period (hours)\");\n",
    "ax.set_ylabel(\"Total Charging Energy (kWh)\");\n",
    "plt.legend(['Charging at BSS','Charging away from BSS'], loc='upper left');"
   ]
  },
  {
   "cell_type": "code",
   "execution_count": null,
   "id": "77803a5d",
   "metadata": {},
   "outputs": [],
   "source": [
    "# ax.figure.savefig(\"images/Charging energy usage aggregated for every hour of day for different locations.png\", bbox_inches='tight')"
   ]
  },
  {
   "cell_type": "markdown",
   "id": "4f0bd97b",
   "metadata": {},
   "source": [
    "#### BSS charging energy usage aggregated for every hour of day split by BSS location"
   ]
  },
  {
   "cell_type": "code",
   "execution_count": null,
   "id": "4bc1dee8",
   "metadata": {},
   "outputs": [],
   "source": [
    "gdf_merged_bms_gps_ch_at_bss_hr = gdf_merged_bms_gps_ch_at_bss.groupby(['hr_inc','BSS_loc_name']).energy_change.agg('sum').to_frame('Total Charging Energy (kWh)').unstack()/charging_efficiency\n",
    "ax = gdf_merged_bms_gps_ch_at_bss_hr.plot.bar(figsize=(20,8),width=0.8,stacked=False, legend=True)\n",
    "# ax.set_title('Battery swap station charging energy usage aggregated for every hour of day (charging within BSS locations only)')\n",
    "ax.set_title('');\n",
    "ax.set_xlabel(\"Time (hours)\");\n",
    "ax.set_ylabel(\"Total Charging Energy (kWh)\");"
   ]
  },
  {
   "cell_type": "markdown",
   "id": "6b3d6deb",
   "metadata": {},
   "source": [
    "## 7. Investigate how much savings could be achieved by shifting energy use away from the evening peak using co-ordinated charging at BSSs\n",
    "\n",
    "### Determine the amount of energy  to be shifted during co-ordinated charging "
   ]
  },
  {
   "cell_type": "code",
   "execution_count": null,
   "id": "e62a9b18",
   "metadata": {},
   "outputs": [],
   "source": [
    "# Set the different hours for each period required to analyse evening peak energy shifting\n",
    "peak_load_hrs = [19,20,21,22]\n",
    "offpeak_load_shift_hrs = [23,24,1,2,3,4,5,6]\n",
    "\n",
    "# Set the different half-hours for each period required to analyse evening peak energy shifting\n",
    "peak_load_30_mins = [18.5,19,19.5,20,20.5,21,21.5,22]\n",
    "offpeak_load_shift_30_mins = [22.5,23,23.5,24,0.5,1,1.5,2,2.5,3,3.5,4,4.5,5,5.5,6]"
   ]
  },
  {
   "cell_type": "code",
   "execution_count": null,
   "id": "3cbf550e",
   "metadata": {},
   "outputs": [],
   "source": [
    "# Calculate the total amount of energy that would need to shift if the energy during the evening peak period was reduced to the afternoon average.\n",
    "total_energy_shift_hr = df_merged_bms_gps_ch_energy_at_bss_hr.loc[peak_load_hrs].sum()\n",
    "total_energy_shift_30_mins = df_merged_bms_gps_ch_energy_at_bss_30_mins.loc[peak_load_30_mins].sum()\n",
    "# Divide the total shifted energy evenly between the remaining offpeak hours (i.e. the additonal shifted energy for each off-peak hour)\n",
    "total_energy_shift_spread_hr = total_energy_shift_hr/len(offpeak_load_shift_hrs)\n",
    "total_energy_shift_spread_30_mins = total_energy_shift_30_mins/len(offpeak_load_shift_30_mins)"
   ]
  },
  {
   "cell_type": "markdown",
   "id": "1a5bf72e",
   "metadata": {},
   "source": [
    "### Create the co-ordinated charging energy profiles for BSSs"
   ]
  },
  {
   "cell_type": "code",
   "execution_count": null,
   "id": "14b0c6fa",
   "metadata": {},
   "outputs": [],
   "source": [
    "# Create the \"shifted\" energy profile for hourly periods\n",
    "df_merged_bms_gps_ch_energy_at_bss_hr['tot_ch_energy_coord'] = df_merged_bms_gps_ch_energy_at_bss_hr['tot_ch_energy']\n",
    "df_merged_bms_gps_ch_energy_at_bss_hr.loc[peak_load_hrs, 'tot_ch_energy_coord'] = 0\n",
    "df_merged_bms_gps_ch_energy_at_bss_hr.loc[offpeak_load_shift_hrs, 'tot_ch_energy_coord'] = df_merged_bms_gps_ch_energy_at_bss_hr.loc[offpeak_load_shift_hrs, 'tot_ch_energy_coord'] + total_energy_shift_spread_hr[0]\n",
    "df_merged_bms_gps_ch_energy_at_bss_hr['energy_change'] =  df_merged_bms_gps_ch_energy_at_bss_hr['tot_ch_energy_coord'] - df_merged_bms_gps_ch_energy_at_bss_hr['tot_ch_energy']\n",
    "\n",
    "# Display the resulting dataframe\n",
    "df_merged_bms_gps_ch_energy_at_bss_hr.head()"
   ]
  },
  {
   "cell_type": "code",
   "execution_count": null,
   "id": "3cd0d66f",
   "metadata": {},
   "outputs": [],
   "source": [
    "# Create the \"shifted\" energy profile for half-hourly periods\n",
    "df_merged_bms_gps_ch_energy_at_bss_30_mins['tot_ch_energy_coord'] = df_merged_bms_gps_ch_energy_at_bss_30_mins['tot_ch_energy']\n",
    "df_merged_bms_gps_ch_energy_at_bss_30_mins.loc[peak_load_30_mins, 'tot_ch_energy_coord'] = 0\n",
    "df_merged_bms_gps_ch_energy_at_bss_30_mins.loc[offpeak_load_shift_30_mins, 'tot_ch_energy_coord'] = df_merged_bms_gps_ch_energy_at_bss_30_mins.loc[offpeak_load_shift_30_mins, 'tot_ch_energy_coord'] + total_energy_shift_spread_30_mins[0]\n",
    "df_merged_bms_gps_ch_energy_at_bss_30_mins['energy_change'] =  df_merged_bms_gps_ch_energy_at_bss_30_mins['tot_ch_energy_coord'] - df_merged_bms_gps_ch_energy_at_bss_30_mins['tot_ch_energy']\n",
    "\n",
    "# Display the resulting dataframe\n",
    "df_merged_bms_gps_ch_energy_at_bss_30_mins.head()"
   ]
  },
  {
   "cell_type": "markdown",
   "id": "f80a71f7",
   "metadata": {},
   "source": [
    "#### Create bar chart to compare the original and shifted hourly charging energy profiles"
   ]
  },
  {
   "cell_type": "code",
   "execution_count": null,
   "id": "7358f84f",
   "metadata": {},
   "outputs": [],
   "source": [
    "ax = df_merged_bms_gps_ch_energy_at_bss_hr.plot.bar(figsize=(20,8), legend=True, width=0.9, color=['blue','lightblue', 'red']); #['blue','lightblue', 'red']\n",
    "# ax.set_title('Battery swap station charging energy usage aggregated for every hour of day');\n",
    "ax.set_title('');\n",
    "ax.set_xlabel(\"Time (hours)\");\n",
    "ax.set_ylabel(\"Total Charging Energy (kWh)\");\n",
    "plt.legend(['Existing BSS charging energy profile','Co-ordinated BSS charging energy profile','Amount of energy shifted']);\n",
    "ax.yaxis.grid(color='gray', linestyle='--')"
   ]
  },
  {
   "cell_type": "code",
   "execution_count": null,
   "id": "7dc5f95f",
   "metadata": {},
   "outputs": [],
   "source": [
    "# ax.figure.savefig(\"images/BSS charging energy usage aggregated for every hour of day (co-ordinated charging 3)'.png\", bbox_inches='tight')"
   ]
  },
  {
   "cell_type": "markdown",
   "id": "734a054f",
   "metadata": {},
   "source": [
    "#### Create bar chart to compare the original and shifted half-hourly charging energy profiles"
   ]
  },
  {
   "cell_type": "code",
   "execution_count": null,
   "id": "d712321a",
   "metadata": {},
   "outputs": [],
   "source": [
    "ax = df_merged_bms_gps_ch_energy_at_bss_30_mins.plot.bar(y=['tot_ch_energy','tot_ch_energy_coord','energy_change'], figsize=(20,8), legend=True, width=0.8)\n",
    "# ax.set_title('Battery swap station charging energy usage aggregated for every half-hour of day')\n",
    "ax.set_title('');\n",
    "ax.set_xlabel(\"Time (hours)\");\n",
    "ax.set_ylabel(\"Total Charging Energy (kWh)\");\n",
    "plt.legend(['Normal charging energy profile','Shifted charging energy profile','Amount of energy shifted']);"
   ]
  },
  {
   "cell_type": "markdown",
   "id": "c111aa2b",
   "metadata": {},
   "source": [
    "## 8. Emissions analysis"
   ]
  },
  {
   "cell_type": "markdown",
   "id": "4323a6a0",
   "metadata": {},
   "source": [
    "### Kenyan Average Emissions Factor every 30 mins of day"
   ]
  },
  {
   "cell_type": "code",
   "execution_count": null,
   "id": "328b8829",
   "metadata": {},
   "outputs": [],
   "source": [
    "# Set csv data file pathnames\n",
    "pathname_hi_therm_AEF_30_mins = ''\n",
    "pathname_hi_renew_AEF_30_mins = ''"
   ]
  },
  {
   "cell_type": "code",
   "execution_count": null,
   "id": "afe5e820",
   "metadata": {},
   "outputs": [],
   "source": [
    "# Read data from csv files and create pandas dataframes\n",
    "df_hi_therm_AEF_30_mins = pd.read_excel(pathname_hi_therm_AEF_30_mins, sheet_name='EF_half_hr', header=0)\n",
    "df_hi_renew_AEF_30_mins = pd.read_excel(pathname_hi_renew_AEF_30_mins, sheet_name='EF_half_hr', header=0)"
   ]
  },
  {
   "cell_type": "markdown",
   "id": "2a9e01d2",
   "metadata": {},
   "source": [
    "#### Create plot to compare AEF scenarios "
   ]
  },
  {
   "cell_type": "code",
   "execution_count": null,
   "id": "a84b9e58",
   "metadata": {
    "scrolled": false
   },
   "outputs": [],
   "source": [
    "xticks=[0,1,2,3,4,5,6,7,8,9,10,11,12,13,14,15,16,17,18,19,20,21,22,23,24]; #xticks=[0,3,6,9,12,15,18,21,24]\n",
    "ax = df_hi_therm_AEF_30_mins.plot(x='Hour', y='AEF_30_mins', color='black', xlim=[0,24],ylim=[0,300], xticks=xticks, figsize=(12,4), legend=True) \n",
    "df_hi_renew_AEF_30_mins.plot(ax=ax, x='Hour', y='AEF_30_mins', color='blue')\n",
    "# ax.set_title('Kenyan Average Emissions Factor every 30 mins of day')\n",
    "ax.set_title('');\n",
    "ax.set_xlabel(\"Time (hours)\");\n",
    "ax.set_ylabel(\"Average Emissions Factor (kgCO2/MWh)\");\n",
    "plt.legend(['High Thermal Scenario','High Renewables Scenario']);\n",
    "# ax.yaxis.grid(color='gray', linestyle='--')"
   ]
  },
  {
   "cell_type": "code",
   "execution_count": null,
   "id": "a2f6b847",
   "metadata": {},
   "outputs": [],
   "source": [
    "# ax.figure.savefig(\"images/Kenyan Average Emissions Factor every 30 mins of day.png\", bbox_inches='tight')"
   ]
  },
  {
   "cell_type": "markdown",
   "id": "98f1b43d",
   "metadata": {},
   "source": [
    "### Calculate charging emissions"
   ]
  },
  {
   "cell_type": "markdown",
   "id": "9579c02a",
   "metadata": {},
   "source": [
    "#### Emissions for all charging (at BSSs and homes)"
   ]
  },
  {
   "cell_type": "code",
   "execution_count": null,
   "id": "0123989a",
   "metadata": {},
   "outputs": [],
   "source": [
    "df_battery_bms_ch_energy_30_mins = df_battery_bms_ch_energy_30_mins.reset_index()\n",
    "df_battery_bms_ch_energy_30_mins['emissions_30_mins_hi_therm'] = df_battery_bms_ch_energy_30_mins['tot_ch_energy']/1000*df_hi_therm_AEF_30_mins['AEF_30_mins']\n",
    "df_battery_bms_ch_energy_30_mins['emissions_30_mins_hi_renew'] = df_battery_bms_ch_energy_30_mins['tot_ch_energy']/1000*df_hi_renew_AEF_30_mins['AEF_30_mins']\n",
    "df_battery_bms_ch_energy_30_mins.head()"
   ]
  },
  {
   "cell_type": "markdown",
   "id": "058cc1e1",
   "metadata": {},
   "source": [
    "#### Create bar chart to compare emission scenarios"
   ]
  },
  {
   "cell_type": "code",
   "execution_count": null,
   "id": "39762967",
   "metadata": {
    "scrolled": true
   },
   "outputs": [],
   "source": [
    "ax = df_battery_bms_ch_energy_30_mins.plot.bar(x='30_mins_inc', \n",
    "                                              y=['emissions_30_mins_hi_therm','emissions_30_mins_hi_renew'],\n",
    "                                              ylim=[0,10],\n",
    "                                              figsize=(12,3), \n",
    "                                              width=0.8,\n",
    "                                              color={'emissions_30_mins_hi_therm': \"grey\", 'emissions_30_mins_hi_renew': \"blue\"},\n",
    "                                              legend=True)\n",
    "# ax.set_title('Charging emissions aggregated for every 30 mins of day');\n",
    "ax.set_title('');\n",
    "ax.set_xlabel(\"Time period (hours)\");\n",
    "ax.set_ylabel(\"Emissions (kgCO2)\");\n",
    "plt.legend(['High Thermal Scenario','High Renewables Scenario'], loc='upper left');\n"
   ]
  },
  {
   "cell_type": "code",
   "execution_count": null,
   "id": "61357146",
   "metadata": {},
   "outputs": [],
   "source": [
    "# ax.figure.savefig(\"images/Charging emissions aggregated for every 30 mins of day.png\", bbox_inches='tight')"
   ]
  },
  {
   "cell_type": "markdown",
   "id": "d2a31a21",
   "metadata": {},
   "source": [
    "#### Emissions for charging at BSSs ONLY"
   ]
  },
  {
   "cell_type": "code",
   "execution_count": null,
   "id": "b5353847",
   "metadata": {},
   "outputs": [],
   "source": [
    "# Calculate emissions using energy and AEF for each 30 min period\n",
    "df_merged_bms_gps_ch_energy_at_bss_30_mins = df_merged_bms_gps_ch_energy_at_bss_30_mins.reset_index()\n",
    "df_merged_bms_gps_ch_energy_at_bss_30_mins['emissions_30_mins_hi_therm'] = df_merged_bms_gps_ch_energy_at_bss_30_mins['tot_ch_energy']/1000*df_hi_therm_AEF_30_mins['AEF_30_mins']\n",
    "df_merged_bms_gps_ch_energy_at_bss_30_mins['emissions_30_mins_hi_renew'] = df_merged_bms_gps_ch_energy_at_bss_30_mins['tot_ch_energy']/1000*df_hi_renew_AEF_30_mins['AEF_30_mins']\n",
    "df_merged_bms_gps_ch_energy_at_bss_30_mins.head()"
   ]
  },
  {
   "cell_type": "markdown",
   "id": "d7001491",
   "metadata": {},
   "source": [
    "#### Create bar chart to compare emission scenarios"
   ]
  },
  {
   "cell_type": "code",
   "execution_count": null,
   "id": "42309f7e",
   "metadata": {
    "scrolled": true
   },
   "outputs": [],
   "source": [
    "ax = df_merged_bms_gps_ch_energy_at_bss_30_mins.plot.bar(x='30_mins_inc', \n",
    "                                              y=['emissions_30_mins_hi_therm','emissions_30_mins_hi_renew'],\n",
    "                                              ylim=[0,4],\n",
    "                                              figsize=(12,3), \n",
    "                                              width=0.8,\n",
    "                                              color={'emissions_30_mins_hi_therm': \"grey\", 'emissions_30_mins_hi_renew': \"blue\"},\n",
    "                                              legend=True)\n",
    "# ax.set_title('Charging emissions aggregated for every 30 mins of day');\n",
    "ax.set_title('');\n",
    "ax.set_xlabel(\"Time period (hours)\");\n",
    "ax.set_ylabel(\"Emissions (kgCO2)\");\n",
    "plt.legend(['High Thermal Scenario','High Renewables Scenario'], loc='upper left');\n"
   ]
  },
  {
   "cell_type": "code",
   "execution_count": null,
   "id": "f2207948",
   "metadata": {},
   "outputs": [],
   "source": [
    "# ax.figure.savefig(\"images/BSS charging emissions aggregated for every 30 mins of day.png\", bbox_inches='tight')"
   ]
  },
  {
   "cell_type": "markdown",
   "id": "cd2e9dae",
   "metadata": {},
   "source": [
    "### Determine emissions for the shifted energy profile"
   ]
  },
  {
   "cell_type": "markdown",
   "id": "114ae2e0",
   "metadata": {},
   "source": [
    "#### Emissions for charging at BSSs ONLY"
   ]
  },
  {
   "cell_type": "code",
   "execution_count": null,
   "id": "1d6c36bf",
   "metadata": {},
   "outputs": [],
   "source": [
    "df_merged_bms_gps_ch_energy_at_bss_30_mins = df_merged_bms_gps_ch_energy_at_bss_30_mins.reset_index()\n",
    "df_merged_bms_gps_ch_energy_at_bss_30_mins['emissions_30_mins_hi_therm_coord'] = df_merged_bms_gps_ch_energy_at_bss_30_mins['tot_ch_energy_coord']/1000*df_hi_therm_AEF_30_mins['AEF_30_mins']\n",
    "df_merged_bms_gps_ch_energy_at_bss_30_mins['emissions_30_mins_hi_renew_coord'] = df_merged_bms_gps_ch_energy_at_bss_30_mins['tot_ch_energy_coord']/1000*df_hi_renew_AEF_30_mins['AEF_30_mins']\n",
    "df_merged_bms_gps_ch_energy_at_bss_30_mins.head()"
   ]
  },
  {
   "cell_type": "code",
   "execution_count": null,
   "id": "2fa7bb45",
   "metadata": {
    "scrolled": true
   },
   "outputs": [],
   "source": [
    "ax = df_merged_bms_gps_ch_energy_at_bss_30_mins.plot.bar(x='30_mins_inc', \n",
    "                                              y=['emissions_30_mins_hi_therm','emissions_30_mins_hi_renew','emissions_30_mins_hi_therm_coord', 'emissions_30_mins_hi_renew_coord'],\n",
    "                                              ylim=[0,4],\n",
    "                                              figsize=(12,4), \n",
    "                                              width=0.8,\n",
    "                                              color=[ \"dimgrey\", \"blue\", \"silver\", \"lightblue\"],\n",
    "                                              legend=True)\n",
    "# ax.set_title('Charging emissions aggregated for every 30 mins of day');\n",
    "ax.set_title('');\n",
    "ax.set_xlabel(\"Time period (hours)\");\n",
    "ax.set_ylabel(\"Emissions (kgCO2)\");\n",
    "plt.legend(['High Thermal Scenario','High Renewables Scenario','High Thermal Co-ord Scenario','High Renewables Co-ord Scenario'], loc='upper left');\n"
   ]
  },
  {
   "cell_type": "code",
   "execution_count": null,
   "id": "0a5cee38",
   "metadata": {},
   "outputs": [],
   "source": [
    "# ax.figure.savefig(\"images/BSS charging emissions aggregated for every 30 mins of day (all scenarios).png\", bbox_inches='tight')"
   ]
  },
  {
   "cell_type": "markdown",
   "id": "d4ba896f",
   "metadata": {},
   "source": [
    "#### Create bar chart to compare the total emissions for each scenario "
   ]
  },
  {
   "cell_type": "code",
   "execution_count": null,
   "id": "0c2413b4",
   "metadata": {},
   "outputs": [],
   "source": [
    "df_emissions_total = df_merged_bms_gps_ch_energy_at_bss_30_mins[['emissions_30_mins_hi_therm','emissions_30_mins_hi_therm_coord','emissions_30_mins_hi_renew', 'emissions_30_mins_hi_renew_coord']].agg('sum').to_frame().transpose()\n",
    "ax = df_emissions_total.plot.bar(legend=True, color=[ \"dimgrey\", \"silver\", \"blue\", \"lightblue\"])\n",
    "# ax.set_title('Total charging emissions for each scenario');\n",
    "ax.set_title('');\n",
    "ax.set_xlabel(\"Scenario\");\n",
    "ax.set_ylabel(\"Total BSS emissions over analysis period (kgCO2)\");\n",
    "plt.xticks([])\n",
    "plt.legend(['High Thermal Scenario','High Thermal Co-ord Scenario', 'High Renewables Scenario','High Renewables Co-ord Scenario'], bbox_to_anchor=(0.5, 1.3), loc='upper center');"
   ]
  },
  {
   "cell_type": "code",
   "execution_count": null,
   "id": "aa675ee5",
   "metadata": {},
   "outputs": [],
   "source": [
    "# ax.figure.savefig(\"images/Total BSS charging emissions over analysis period (all scenarios).png\", bbox_inches='tight')"
   ]
  },
  {
   "cell_type": "markdown",
   "id": "c2596724",
   "metadata": {},
   "source": [
    "### Determine e-motorycle emissions factors (gCO2/km) based on charging emissions and distance driven"
   ]
  },
  {
   "cell_type": "markdown",
   "id": "cdecee34",
   "metadata": {},
   "source": [
    "#### Input baseline emissions factor for ICE motorcycles:"
   ]
  },
  {
   "cell_type": "code",
   "execution_count": null,
   "id": "af589a64",
   "metadata": {},
   "outputs": [],
   "source": [
    "baseline_emissions_g_per_km = 69.1;"
   ]
  },
  {
   "cell_type": "code",
   "execution_count": null,
   "id": "7d252083",
   "metadata": {},
   "outputs": [],
   "source": [
    "# Estimate total distance driven using the charging energy from BSSs using the average energy intensity determined for the motorcycles\n",
    "total_ch_energy_at_bss = df_merged_bms_gps_ch_energy_at_bss_30_mins['tot_ch_energy'].sum()\n",
    "total_distance_from_bss_charging = total_ch_energy_at_bss/energy_intensity_avg\n",
    "print('The total estimated distance driven using energy from BSS charging was: \\n', \n",
    "      np.round(total_distance_from_bss_charging), ' km')"
   ]
  },
  {
   "cell_type": "code",
   "execution_count": null,
   "id": "58b6d8ba",
   "metadata": {},
   "outputs": [],
   "source": [
    "# Determine emissions per km (gCO2/km) for each scenario\n",
    "df_emissions_g_per_km = df_emissions_total/total_distance_from_bss_charging*1000\n",
    "df_emissions_g_per_km"
   ]
  },
  {
   "cell_type": "code",
   "execution_count": null,
   "id": "7dd721b2",
   "metadata": {},
   "outputs": [],
   "source": [
    "df_emissions_g_per_km['baseline_ICE'] = baseline_emissions_g_per_km"
   ]
  },
  {
   "cell_type": "code",
   "execution_count": null,
   "id": "57fb27c4",
   "metadata": {},
   "outputs": [],
   "source": [
    "ax = df_emissions_g_per_km.plot.bar(legend=True, y=['baseline_ICE','emissions_30_mins_hi_therm','emissions_30_mins_hi_therm_coord','emissions_30_mins_hi_renew', 'emissions_30_mins_hi_renew_coord'], color=[ \"red\", \"dimgrey\", \"silver\", \"blue\", \"lightblue\"], width=1)\n",
    "# ax.set_title('BSS e-motorcycles emissions factors (all scenarios)')\n",
    "plt.xticks([])\n",
    "plt.legend(['ICE Baseline','E2W High Thermal Scenario','E2W High Thermal Co-ord Scenario', 'E2W High Renewables Scenario','E2W High Renewables Co-ord Scenario'], bbox_to_anchor=(0.5, 1.35), loc='upper center');"
   ]
  },
  {
   "cell_type": "code",
   "execution_count": null,
   "id": "478ac163",
   "metadata": {},
   "outputs": [],
   "source": [
    "# ax.figure.savefig(\"images/BSS e-motorcycles emissions factors (all scenarios).png\", bbox_inches='tight')"
   ]
  },
  {
   "cell_type": "code",
   "execution_count": null,
   "id": "12edcdfb",
   "metadata": {},
   "outputs": [],
   "source": [
    "df_emissions_g_per_km_reduction = (baseline_emissions_g_per_km - df_emissions_g_per_km)/baseline_emissions_g_per_km*100\n",
    "df_emissions_g_per_km_reduction"
   ]
  },
  {
   "cell_type": "markdown",
   "id": "c8bfb119",
   "metadata": {},
   "source": [
    "### What amount of emissions were mitigated through shifting the evening peak charging energy?"
   ]
  },
  {
   "cell_type": "code",
   "execution_count": null,
   "id": "35ffa121",
   "metadata": {},
   "outputs": [],
   "source": [
    "percentage_emissions_saved_coord_therm = (df_emissions_total['emissions_30_mins_hi_therm'] - df_emissions_total['emissions_30_mins_hi_therm_coord'])/df_emissions_total['emissions_30_mins_hi_therm']*100\n",
    "percentage_emissions_saved_coord_renew = (df_emissions_total['emissions_30_mins_hi_renew'] - df_emissions_total['emissions_30_mins_hi_renew_coord'])/df_emissions_total['emissions_30_mins_hi_renew']*100\n",
    "print('The total percentage change in emissions by shifting loads to off-peak periods was: \\n', \n",
    "      np.round(percentage_emissions_saved_coord_therm.values[0], decimals = 2),'% for the high thermal scenario, and \\n',\n",
    "      np.round(percentage_emissions_saved_coord_renew.values[0], decimals = 2),'% for the high renewables scenario.')"
   ]
  },
  {
   "cell_type": "markdown",
   "id": "c6d27631",
   "metadata": {},
   "source": [
    "## 9. Tariff analysis\n",
    "### Load data\n",
    "#### Set pathname for electricity tariff spreadsheet and then load as dataframe"
   ]
  },
  {
   "cell_type": "code",
   "execution_count": null,
   "id": "39f3a904",
   "metadata": {},
   "outputs": [],
   "source": [
    "# Set pathname to file\n",
    "pathname_elec_tariffs = ''"
   ]
  },
  {
   "cell_type": "code",
   "execution_count": null,
   "id": "528ddbe4",
   "metadata": {},
   "outputs": [],
   "source": [
    "# Import spreradsheet as dataframe\n",
    "df_elec_tariffs = pd.read_excel(pathname_elec_tariffs, sheet_name='elec_cost', header=0)\n",
    "\n",
    "# Display dataframe to inspect data\n",
    "df_elec_tariffs.head()"
   ]
  },
  {
   "cell_type": "markdown",
   "id": "dd6c46cd",
   "metadata": {},
   "source": [
    "### Calculate energy costs for the different scenarios for each hour"
   ]
  },
  {
   "cell_type": "code",
   "execution_count": null,
   "id": "553e4235",
   "metadata": {},
   "outputs": [],
   "source": [
    "# Create a dataframe with all the columns required to calculate the energy costs\n",
    "df_energy_costs_hr = df_merged_bms_gps_ch_energy_at_bss_hr.reset_index().join(df_elec_tariffs[['S1_elec_cost_KES_kWh','S2_elec_cost_KES_kWh','S3_elec_cost_KES_kWh']])\n",
    "df_energy_costs_hr['S1_total_cost'] = df_energy_costs_hr['tot_ch_energy']*df_energy_costs_hr['S1_elec_cost_KES_kWh']\n",
    "df_energy_costs_hr['S2_total_cost'] = df_energy_costs_hr['tot_ch_energy']*df_energy_costs_hr['S2_elec_cost_KES_kWh']\n",
    "df_energy_costs_hr['S3_total_cost'] = df_energy_costs_hr['tot_ch_energy']*df_energy_costs_hr['S3_elec_cost_KES_kWh']\n",
    "\n",
    "# Display dataframe\n",
    "df_energy_costs_hr.head()"
   ]
  },
  {
   "cell_type": "markdown",
   "id": "c2e516cb",
   "metadata": {},
   "source": [
    "### Create bar chart to compare the hourly energy costs for each different tariff scenario "
   ]
  },
  {
   "cell_type": "code",
   "execution_count": null,
   "id": "38b0ef1e",
   "metadata": {},
   "outputs": [],
   "source": [
    "ax = df_energy_costs_hr.plot.bar(x='hr_inc', \n",
    "                                              y=['S1_total_cost','S2_total_cost','S3_total_cost'], \n",
    "                                              figsize=(12,3), \n",
    "                                              width=0.8,\n",
    "                                              color={'S1_total_cost': \"darkblue\", 'S2_total_cost': \"blue\", 'S3_total_cost':\"lightblue\"},\n",
    "                                              legend=True)\n",
    "# ax.set_title('Battery Swap Cabinet Charging Costs for every hour of day');\n",
    "ax.set_title('');\n",
    "ax.set_xlabel(\"Time period (hours)\");\n",
    "ax.set_ylabel(\"Electricity cost (KShs)\");\n",
    "plt.legend(['Domestic Tariff','E-mobility Tariff', 'E-mobility ToU Tariff']);"
   ]
  },
  {
   "cell_type": "code",
   "execution_count": null,
   "id": "fe58f098",
   "metadata": {},
   "outputs": [],
   "source": [
    "# ax.figure.savefig(\"images/Charging Costs for every hour of day.png\", bbox_inches='tight')"
   ]
  },
  {
   "cell_type": "markdown",
   "id": "1e508df7",
   "metadata": {},
   "source": [
    "### Determine energy costs for the shifted energy profile with the \"Scenario 3\" ToU tariff structure"
   ]
  },
  {
   "cell_type": "code",
   "execution_count": null,
   "id": "ab64e4e4",
   "metadata": {},
   "outputs": [],
   "source": [
    "df_energy_costs_hr['tot_ch_energy_coord'] = df_merged_bms_gps_ch_energy_at_bss_hr.reset_index().tot_ch_energy_coord\n",
    "df_energy_costs_hr['S3_total_cost_coord'] = df_energy_costs_hr['S3_elec_cost_KES_kWh']*df_energy_costs_hr['tot_ch_energy_coord']\n",
    "\n",
    "# Display the dataframe to inpect results\n",
    "df_energy_costs_hr.head()"
   ]
  },
  {
   "cell_type": "markdown",
   "id": "ebe15044",
   "metadata": {},
   "source": [
    "### Create bar chart to compare the hourly energy costs for each different tariff scenario "
   ]
  },
  {
   "cell_type": "code",
   "execution_count": null,
   "id": "da5f6554",
   "metadata": {},
   "outputs": [],
   "source": [
    "ax = df_energy_costs_hr.plot.bar(x='hr_inc', \n",
    "                                              y=['S1_total_cost','S2_total_cost','S3_total_cost', 'S3_total_cost_coord'], \n",
    "                                              figsize=(12,4), \n",
    "                                              width=0.8,\n",
    "                                              color={'S1_total_cost': \"darkblue\", 'S2_total_cost': \"blue\", 'S3_total_cost':\"lightblue\", 'S3_total_cost_coord':'darkseagreen'},\n",
    "                                              legend=True)\n",
    "# ax.set_title('BSS charging costs aggregated for every hour of day (all tariff scenarios)');\n",
    "ax.set_title('');\n",
    "ax.set_xlabel(\"Time (hours)\");\n",
    "ax.set_ylabel(\"Electricity cost (KShs)\");\n",
    "plt.legend(['Domestic Tariff','E-mobility Tariff', 'E-mobility ToU Tariff', 'E-mobility ToU Tariff with co-ordinated charging']);"
   ]
  },
  {
   "cell_type": "code",
   "execution_count": null,
   "id": "6cea7eb5",
   "metadata": {},
   "outputs": [],
   "source": [
    "# ax.figure.savefig(\"images/BSS charging costs aggregated for every hour of day (all tariff scenarios)'.png\", bbox_inches='tight')"
   ]
  },
  {
   "cell_type": "markdown",
   "id": "40a78972",
   "metadata": {},
   "source": [
    "### Create bar chart to compare the total costs for each different tariff scenario "
   ]
  },
  {
   "cell_type": "code",
   "execution_count": null,
   "id": "a448ba2f",
   "metadata": {},
   "outputs": [],
   "source": [
    "df_energy_costs_total = df_energy_costs_hr[['S1_total_cost','S2_total_cost','S3_total_cost','S3_total_cost_coord']].agg('sum').to_frame().transpose()\n",
    "ax = df_energy_costs_total.plot.bar(legend=True, width=1, color=[\"darkblue\",\"blue\", \"lightblue\", 'darkseagreen'])\n",
    "# ax.set_title('BSS total charging costs over analysis period (all tariff scenarios)');\n",
    "ax.set_title('');\n",
    "ax.set_xlabel('Scenario');\n",
    "ax.set_ylabel(\"Total electricity cost over analysis period (KShs)\");\n",
    "plt.xticks([]);\n",
    "plt.legend(['Domestic Tariff','E-mobility Tariff', 'E-mobility ToU Tariff', 'E-mobility ToU Tariff with co-ordinated charging'], bbox_to_anchor=(0.5, 1.3), loc='upper center');"
   ]
  },
  {
   "cell_type": "code",
   "execution_count": null,
   "id": "f227ab95",
   "metadata": {},
   "outputs": [],
   "source": [
    "# ax.figure.savefig(\"images/BSS total charging costs over analysis period (all tariff scenarios)'.png\", bbox_inches='tight')"
   ]
  },
  {
   "cell_type": "code",
   "execution_count": null,
   "id": "dc1c7444",
   "metadata": {},
   "outputs": [],
   "source": [
    "df_charging_cost_reduction = (df_energy_costs_total['S1_total_cost'].values[0] - df_energy_costs_total)/df_energy_costs_total*100\n",
    "df_charging_cost_reduction"
   ]
  },
  {
   "cell_type": "markdown",
   "id": "7a3649ae",
   "metadata": {},
   "source": [
    "### Determine averaged costs"
   ]
  },
  {
   "cell_type": "code",
   "execution_count": null,
   "id": "b4a83d84",
   "metadata": {},
   "outputs": [],
   "source": [
    "total_ch_energy_at_bss = df_merged_bms_gps_ch_energy_at_bss_30_mins['tot_ch_energy'].sum()\n",
    "df_energy_costs_average_per_kwh = df_energy_costs_total/total_ch_energy_at_bss\n",
    "df_energy_costs_average_per_kwh"
   ]
  },
  {
   "cell_type": "code",
   "execution_count": null,
   "id": "ae96e9c8",
   "metadata": {},
   "outputs": [],
   "source": [
    "ax = df_energy_costs_average_per_kwh.plot.bar(legend=True, width=1, color=[\"darkblue\",\"blue\", \"lightblue\", 'darkseagreen'])\n",
    "# ax.set_title('Average electricity costs for BSS (all tariff scenarios)');\n",
    "ax.set_title('');\n",
    "ax.set_xlabel('Scenario');\n",
    "ax.set_ylabel(\"Average electricity cost (KShs/kWh)\");\n",
    "plt.xticks([]);\n",
    "plt.legend(['Domestic Tariff','E-mobility Tariff', 'E-mobility ToU Tariff', 'E-mobility ToU Tariff with co-ordinated charging'], bbox_to_anchor=(0.5, 1.3), loc='upper center');"
   ]
  },
  {
   "cell_type": "code",
   "execution_count": null,
   "id": "fd8618c6",
   "metadata": {},
   "outputs": [],
   "source": [
    "# ax.figure.savefig(\"images/Average electricity costs for BSS (all tariff scenarios)'.png\", bbox_inches='tight')"
   ]
  },
  {
   "cell_type": "markdown",
   "id": "f8446e13",
   "metadata": {},
   "source": [
    "### How much was saved using the ToU tariff and shifting the evening peak charging energy?"
   ]
  },
  {
   "cell_type": "code",
   "execution_count": null,
   "id": "6107ed7d",
   "metadata": {},
   "outputs": [],
   "source": [
    "percentage_saved_shift = (df_energy_costs_hr['S2_total_cost'].sum() - df_energy_costs_hr['S3_total_cost_coord'].sum())/df_energy_costs_hr['S2_total_cost'].sum()*100\n",
    "percentage_saved_S3vS2 = (df_energy_costs_hr['S2_total_cost'].sum() - df_energy_costs_hr['S3_total_cost'].sum())/df_energy_costs_hr['S2_total_cost'].sum()*100\n",
    "print('The total percentage of electricity costs saved by shifting loads to off-peak periods using the E-mobility ToU \\ntariffs was ', \n",
    "      np.round(percentage_saved_shift, decimals = 2),'% compared to a savings of ', np.round(percentage_saved_S3vS2, decimals = 2),'% using E-mobility ToU tariffs without shifting load.')"
   ]
  }
 ],
 "metadata": {
  "kernelspec": {
   "display_name": "Python 3 (ipykernel)",
   "language": "python",
   "name": "python3"
  },
  "language_info": {
   "codemirror_mode": {
    "name": "ipython",
    "version": 3
   },
   "file_extension": ".py",
   "mimetype": "text/x-python",
   "name": "python",
   "nbconvert_exporter": "python",
   "pygments_lexer": "ipython3",
   "version": "3.9.13"
  }
 },
 "nbformat": 4,
 "nbformat_minor": 5
}
