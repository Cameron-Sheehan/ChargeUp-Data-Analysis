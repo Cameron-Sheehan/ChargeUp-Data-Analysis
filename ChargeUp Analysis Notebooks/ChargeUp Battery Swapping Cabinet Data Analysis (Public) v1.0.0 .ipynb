{
 "cells": [
  {
   "cell_type": "markdown",
   "id": "431c972a",
   "metadata": {},
   "source": [
    "# ChargeUp! Battery Swapping Cabinet Data Analysis (Public)\n",
    "\n",
    "This notebook provides a framework for the analysis of Battery Swap Station data for e-motorcycles and was developed as part of the **ChargeUp!** project (2022-2023), funded by **P4G** (https://p4gpartnerships.org/chargeup). \n",
    "\n",
    "Author: Cameron Sheehan (Research Associate, Energy Futures Lab, Imperial College London)"
   ]
  },
  {
   "cell_type": "markdown",
   "id": "310cf5c9",
   "metadata": {},
   "source": [
    "## 1. Import all required packages"
   ]
  },
  {
   "cell_type": "code",
   "execution_count": null,
   "id": "2b239440",
   "metadata": {},
   "outputs": [],
   "source": [
    "import numpy as np\n",
    "import pandas as pd\n",
    "import geopandas as gpd\n",
    "import matplotlib.pyplot as plt\n",
    "from datetime import datetime, timedelta\n",
    "from keplergl import KeplerGl\n",
    "import random\n",
    "from h3 import h3\n",
    "import h3pandas\n",
    "from folium import Map, Marker, GeoJson\n",
    "from folium.plugins import MarkerCluster\n",
    "import branca.colormap as cm\n",
    "from branca.colormap import linear\n",
    "import folium\n",
    "import networkx as nx\n",
    "import osmnx as ox\n",
    "import shapely\n",
    "from shapely.geometry import LineString\n",
    "from shapely.geometry import Point\n",
    "from shapely.geometry import Polygon\n",
    "import pulp\n",
    "from pulp import LpMaximize, LpProblem, LpStatus, lpSum, LpVariable\n",
    "from descartes import PolygonPatch\n",
    "from rasterstats import zonal_stats\n",
    "import pandas as pd\n",
    "from sklearn import preprocessing\n",
    "from sklearn.preprocessing import normalize\n",
    "import movingpandas as mpd\n",
    "import xarray as xr\n",
    "import hvplot.xarray  # noqa\n",
    "import hvplot.pandas \n",
    "from holoviews import opts\n",
    "import seaborn as sns\n",
    "from pytz import common_timezones, all_timezones\n",
    "import warnings\n",
    "from IPython.display import display, HTML\n",
    "\n",
    "display(HTML(\"<style>.output_result { max-width:100% !important; }</style>\"))\n",
    "\n",
    "plt.rcParams['axes.axisbelow'] = True\n",
    "\n",
    "warnings.filterwarnings('ignore')\n",
    "warnings.simplefilter('ignore')"
   ]
  },
  {
   "cell_type": "markdown",
   "id": "9cca99ee",
   "metadata": {},
   "source": [
    "## 2. Import Data\n",
    "\n",
    "Open files as dataframes and process column data.\n",
    "\n",
    "First, paste full pathname to battery_swaps data file below, ensure pathname is in inverted commas, i.e. '/XXX/XXX/XXX/battery_swaps.csv'"
   ]
  },
  {
   "cell_type": "code",
   "execution_count": null,
   "id": "540bbf5c",
   "metadata": {},
   "outputs": [],
   "source": [
    "# Set csv data file pathnames\n",
    "pathname_battery_swaps = ''"
   ]
  },
  {
   "cell_type": "markdown",
   "id": "6c3322c6",
   "metadata": {},
   "source": [
    "Next, input the column headings for the required data fields:"
   ]
  },
  {
   "cell_type": "code",
   "execution_count": null,
   "id": "2c8ef405",
   "metadata": {},
   "outputs": [],
   "source": [
    "BSS_id_col = '';\n",
    "batt_in_id_col = '';\n",
    "batt_out_id_col = '';\n",
    "batt_in_soc_col = '';\n",
    "batt_out_soc_col = '';\n",
    "swap_time_col = '';\n",
    "user_id_col = ''"
   ]
  },
  {
   "cell_type": "markdown",
   "id": "7e46a55d",
   "metadata": {},
   "source": [
    "Set the column headings for the optional data fields if they're available:"
   ]
  },
  {
   "cell_type": "code",
   "execution_count": null,
   "id": "fd573ac8",
   "metadata": {},
   "outputs": [],
   "source": [
    "# The following data fields are optional, if they're available they can be used to filter the data further.\n",
    "# If they are available, set the availability varibale below as True, else set it to False\n",
    "optional_data_fields_available = True # False\n",
    "\n",
    "if optional_data_fields_available==True:\n",
    "    swap_status_col = '';\n",
    "    swap_city_col = '';"
   ]
  },
  {
   "cell_type": "markdown",
   "id": "39523320",
   "metadata": {},
   "source": [
    "Read data from csv file and create a pandas dataframe:"
   ]
  },
  {
   "cell_type": "code",
   "execution_count": null,
   "id": "a2628260",
   "metadata": {},
   "outputs": [],
   "source": [
    "df_battery_swaps_raw = pd.read_csv(pathname_battery_swaps, header=0)\n",
    "df_battery_swaps = pd.DataFrame()\n",
    "\n",
    "# Assign data columns to correct dataframe column headings for required data fields\n",
    "df_battery_swaps[['swap_time','BSS_id','batt_in_id','batt_in_soc','batt_out_id','batt_out_soc','user_id']] = df_battery_swaps_raw[[swap_time_col,BSS_id_col,batt_in_id_col,batt_in_soc_col,batt_out_id_col,batt_out_soc_col,user_id_col]]\n",
    "\n",
    "# Assign the optional fields if they're available\n",
    "if optional_data_fields_available==True:\n",
    "    df_battery_swaps[['swap_status','swap_city']] = df_battery_swaps_raw[[swap_status_col,swap_city_col]]"
   ]
  },
  {
   "cell_type": "code",
   "execution_count": null,
   "id": "8679b989",
   "metadata": {},
   "outputs": [],
   "source": [
    "# Process battery_swaps data types\n",
    "df_battery_swaps[['BSS_id', 'batt_in_id', 'batt_out_id', 'swap_status', 'swap_city', 'user_id']] = df_battery_swaps[['BSS_id', 'batt_in_id','batt_out_id', 'swap_status', 'swap_city', 'user_id']].astype(\"string\")\n",
    "df_battery_swaps[['batt_in_soc', 'batt_out_soc']] = df_battery_swaps[['batt_in_soc', 'batt_out_soc']].apply(pd.to_numeric, errors='coerce')"
   ]
  },
  {
   "cell_type": "code",
   "execution_count": null,
   "id": "8887a94b",
   "metadata": {},
   "outputs": [],
   "source": [
    "# Filter out swaps that are either not completed or took place in China\n",
    "if optional_data_fields_available==True:\n",
    "    df_battery_swaps = df_battery_swaps[(df_battery_swaps['swap_status']=='completed') & (df_battery_swaps['swap_city']=='Nairobi')]\n",
    "    df_battery_swaps = df_battery_swaps.drop(columns=['swap_status','swap_city'])"
   ]
  },
  {
   "cell_type": "code",
   "execution_count": null,
   "id": "fd59e31c",
   "metadata": {},
   "outputs": [],
   "source": [
    "# Set timezone of time data and convert to local timezone and create a date_time column to be used as index\n",
    "df_battery_swaps[\"date_time\"] = pd.to_datetime(df_battery_swaps['swap_time'], utc=False).dt.tz_localize('Asia/Hong_Kong').dt.tz_convert('Africa/Nairobi')#, infer_datetime_format=True)# , unit='s')\n",
    "df_battery_swaps['swap_time'] = pd.to_datetime(df_battery_swaps['swap_time'], utc=False).dt.tz_localize('Asia/Hong_Kong').dt.tz_convert('Africa/Nairobi') #.tz_localize('Africa/Nairobi')\n",
    "df_battery_swaps = df_battery_swaps.sort_values(by=['BSS_id','date_time'])\n",
    "df_battery_swaps = df_battery_swaps.set_index(['date_time']) #(['BSS_id','date_time']) #.tz_localize('Africa/Nairobi')"
   ]
  },
  {
   "cell_type": "markdown",
   "id": "82460a94",
   "metadata": {},
   "source": [
    "## 3. Analyse swap cabinet data"
   ]
  },
  {
   "cell_type": "markdown",
   "id": "144ea363",
   "metadata": {},
   "source": [
    "Check number of unique devices in dataset:"
   ]
  },
  {
   "cell_type": "code",
   "execution_count": null,
   "id": "f64d1631",
   "metadata": {},
   "outputs": [],
   "source": [
    "n_batteries = len(pd.unique(df_battery_swaps[['batt_out_id','batt_in_id']].values.ravel('K')))\n",
    "n_cabinets = len(pd.unique(df_battery_swaps['BSS_id']))\n",
    "n_users = len(pd.unique(df_battery_swaps['user_id']))\n",
    "print(\"There are a total of \", n_batteries, \" unique batteries, \", n_cabinets, \" swap cabinets, and a total of \", n_users, \" users in this dataset.\")"
   ]
  },
  {
   "cell_type": "markdown",
   "id": "d94a1423",
   "metadata": {},
   "source": [
    "Determine total number of swaps per swap cabinet in dataset:"
   ]
  },
  {
   "cell_type": "code",
   "execution_count": null,
   "id": "c9d717c2",
   "metadata": {},
   "outputs": [],
   "source": [
    "df_swap_cabinets_count = df_battery_swaps.groupby('BSS_id').size().to_frame(name='total_swaps')\n",
    "df_swap_cabinets_count"
   ]
  },
  {
   "cell_type": "markdown",
   "id": "85f010d9",
   "metadata": {},
   "source": [
    "Determine total number of swaps in dataset:"
   ]
  },
  {
   "cell_type": "code",
   "execution_count": null,
   "id": "3c334f92",
   "metadata": {},
   "outputs": [],
   "source": [
    "total_swaps = df_swap_cabinets_count.total_swaps.sum()\n",
    "print(\"There was a total of \", total_swaps, \" battery swaps that occurred in this dataset.\")"
   ]
  },
  {
   "cell_type": "markdown",
   "id": "f6c753b5",
   "metadata": {},
   "source": [
    "Filter out certain data entries. <br>\n",
    "\n",
    "Note: The values used to filter data can be changed to whatever values are deemed appropriate for the specific dataset. "
   ]
  },
  {
   "cell_type": "code",
   "execution_count": null,
   "id": "8302fc9e",
   "metadata": {},
   "outputs": [],
   "source": [
    "# Remove cabinets with low total swap numbers from anlaysis dataset, as these low numbers may not be \n",
    "# representative of actual swap behaviour.\n",
    "# Here we have chosen a lower limit of 20 swaps.\n",
    "min_swaps_req = 20\n",
    "remove_cabinets = df_swap_cabinets_count.index[df_swap_cabinets_count['total_swaps'] < min_swaps_req].tolist()\n",
    "df_battery_swaps = df_battery_swaps.drop(df_battery_swaps[df_battery_swaps['BSS_id'].isin(remove_cabinets)].index)\n",
    "\n",
    "# Remove swap records where the battery being swapped has an SOC > 90%, implying the swap was not required and probably part of initial testing\n",
    "df_battery_swaps = df_battery_swaps.drop(df_battery_swaps[df_battery_swaps['batt_in_soc']>90].index)\n",
    "# Remove swap records where the battery being removed has an SOC < 50%, implying the swap was probably part of initial testing\n",
    "df_battery_swaps = df_battery_swaps.drop(df_battery_swaps[df_battery_swaps['batt_out_soc']<50].index)\n",
    "\n",
    "# Display list of Cabinet Serial Numbers (SN) to be removed from dataset\n",
    "print(\"The following cabinets have been removed from the dataset since they did not meet the minimum swap limit of \", \n",
    "      min_swaps_req, \" set: \", remove_cabinets)"
   ]
  },
  {
   "cell_type": "markdown",
   "id": "b1f45480",
   "metadata": {},
   "source": [
    "Visualise data for each swap cabinet:"
   ]
  },
  {
   "cell_type": "code",
   "execution_count": null,
   "id": "4c55f6e8",
   "metadata": {},
   "outputs": [],
   "source": [
    "ax = sns.relplot(data=df_battery_swaps, hue='BSS_id', x='swap_time', y='batt_in_soc', \n",
    "                kind='scatter', height=3, aspect=3, marker='o', alpha=0.6)\n",
    "ax.fig.autofmt_xdate()"
   ]
  },
  {
   "cell_type": "code",
   "execution_count": null,
   "id": "69a2fc6d",
   "metadata": {},
   "outputs": [],
   "source": [
    "ax = sns.relplot(data=df_battery_swaps, hue='BSS_id', x='swap_time', y='batt_out_soc', \n",
    "                kind='scatter', height=3, aspect=3, marker='o', alpha=0.6)\n",
    "ax.fig.autofmt_xdate()"
   ]
  },
  {
   "cell_type": "markdown",
   "id": "fb09d6cb",
   "metadata": {},
   "source": [
    "### Determine number of swaps per day per user"
   ]
  },
  {
   "cell_type": "code",
   "execution_count": null,
   "id": "e05b48f6",
   "metadata": {},
   "outputs": [],
   "source": [
    "df_battery_swaps_g_date_user = df_battery_swaps.groupby([df_battery_swaps.index.date, 'user_id'] ).size().to_frame('swaps_by_user')\n",
    "mean_swap_per_user_per_day = df_battery_swaps_g_date_user['swaps_by_user'].mean()\n",
    "std_swap_per_user_per_day = df_battery_swaps_g_date_user['swaps_by_user'].std()\n",
    "print(\"The average number of swaps per day per user was \", np.round(mean_swap_per_user_per_day, decimals=2), \" swaps/day/user in this dataset.\")"
   ]
  },
  {
   "cell_type": "markdown",
   "id": "38c0905d",
   "metadata": {},
   "source": [
    "### Add columns to be used for grouping by various time increments (hourly, half-hourly, every 15 mins)"
   ]
  },
  {
   "cell_type": "code",
   "execution_count": null,
   "id": "37ee13a5",
   "metadata": {},
   "outputs": [],
   "source": [
    "# Determine which hourly increment the swap occurred in\n",
    "df_battery_swaps['hr_inc'] = df_battery_swaps.index.hour + np.ceil(df_battery_swaps.index.minute/60)\n",
    "df_battery_swaps['hr_inc'] = df_battery_swaps['hr_inc'].astype('int')\n",
    "\n",
    "# Determine which 30 minute increment the swap occured in \n",
    "df_battery_swaps['30_mins_inc'] = df_battery_swaps.index.hour + np.ceil(df_battery_swaps.index.minute/30)*30/60\n",
    "\n",
    "# Determine which 15 minute increment the swap occured in\n",
    "df_battery_swaps['15_mins_inc'] = df_battery_swaps.index.hour + np.ceil(df_battery_swaps.index.minute/15)*15/60\n",
    "\n",
    "# Display some of the calculated increments in the dataframe\n",
    "df_battery_swaps.head()"
   ]
  },
  {
   "cell_type": "markdown",
   "id": "c3d1b6c6",
   "metadata": {},
   "source": [
    "### Swap distribution by *day of week*\n",
    "\n",
    "Note: Monday=0, Sunday=6 <br>\n",
    "Check if there are lower numbers / probability of swaps on weekends vs weekdays"
   ]
  },
  {
   "cell_type": "code",
   "execution_count": null,
   "id": "6a28d970",
   "metadata": {},
   "outputs": [],
   "source": [
    "df_battery_swaps_g_dow = df_battery_swaps.groupby(df_battery_swaps.index.dayofweek)\n",
    "df_swap_distrib_stats_dow = df_battery_swaps_g_dow.size().to_frame(name='total_swaps')\n",
    "df_swap_distrib_stats_dow = (df_swap_distrib_stats_dow\n",
    "                         .join(df_battery_swaps_g_dow.agg({'batt_in_soc':'mean'}).rename(columns={'batt_in_soc': 'SOC_in_mean'}))\n",
    "                         .join(df_battery_swaps_g_dow.agg({'batt_in_soc':'max'}).rename(columns={'batt_in_soc': 'SOC_in_max'}))\n",
    "                         .join(df_battery_swaps_g_dow.agg({'batt_in_soc':'min'}).rename(columns={'batt_in_soc': 'SOC_in_min'}))\n",
    "                         .join(df_battery_swaps_g_dow.agg({'batt_out_soc':'mean'}).rename(columns={'batt_out_soc': 'SOC_out_mean'}))\n",
    "                         .join(df_battery_swaps_g_dow.agg({'batt_out_soc':'max'}).rename(columns={'batt_out_soc': 'SOC_out_max'}))\n",
    "                         .join(df_battery_swaps_g_dow.agg({'batt_out_soc':'min'}).rename(columns={'batt_out_soc': 'SOC_out_min'}))\n",
    "                        )\n",
    "df_swap_distrib_stats_dow['prob'] = normalize(df_swap_distrib_stats_dow['total_swaps'].values.reshape(1,-1), norm=\"l1\").reshape(-1,1)\n",
    "df_swap_distrib_stats_dow"
   ]
  },
  {
   "cell_type": "code",
   "execution_count": null,
   "id": "e47418f6",
   "metadata": {},
   "outputs": [],
   "source": [
    "# Create bar plot of swap probabilities in each time increment\n",
    "df_swap_distrib_stats_dow['prob_percent'] = df_swap_distrib_stats_dow['prob']*100"
   ]
  },
  {
   "cell_type": "code",
   "execution_count": null,
   "id": "38e45507",
   "metadata": {},
   "outputs": [],
   "source": [
    "ax = df_swap_distrib_stats_dow.plot.bar(y='prob_percent', figsize=(8,3), legend=False, width=0.90, ylim=(0, 25), rot=45, color=\"blue\")\n",
    "# p.set_title('Battery swap probability distribution by hours of day')\n",
    "ax.set_xlabel(\"Day of week\");\n",
    "ax.set_ylabel(\"Probability of swap occurring (%)\");\n",
    "ax.yaxis.grid(color='gray', linestyle='-')\n",
    "# ax.yaxis.set_major_formatter(plt.FormatStrFormatter('%.0f'))\n",
    "# ax.xaxis.set_major_formatter(plt.FormatStrFormatter('%.0f'))\n"
   ]
  },
  {
   "cell_type": "code",
   "execution_count": null,
   "id": "843fcfca",
   "metadata": {},
   "outputs": [],
   "source": [
    "# ax.figure.savefig(\"images/Battery swap probability distribution by day of week.png\", bbox_inches='tight')"
   ]
  },
  {
   "cell_type": "markdown",
   "id": "cc854bf5",
   "metadata": {},
   "source": [
    "### Swap counts and SOC distribution by *date*"
   ]
  },
  {
   "cell_type": "code",
   "execution_count": null,
   "id": "10d00999",
   "metadata": {},
   "outputs": [],
   "source": [
    "df_battery_swaps_g_date = df_battery_swaps.groupby(df_battery_swaps.index.date)\n",
    "df_swap_distrib_stats_date = df_battery_swaps_g_date.size().to_frame(name='total_swaps')\n",
    "df_swap_distrib_stats_date = (df_swap_distrib_stats_date\n",
    "                              .join(df_battery_swaps_g_date.agg({'batt_in_soc':'mean'}).rename(columns={'batt_in_soc': 'SOC_in_mean'}))\n",
    "                              .join(df_battery_swaps_g_date.agg({'batt_in_soc':'max'}).rename(columns={'batt_in_soc': 'SOC_in_max'}))\n",
    "                              .join(df_battery_swaps_g_date.agg({'batt_in_soc':'min'}).rename(columns={'batt_in_soc': 'SOC_in_min'}))\n",
    "                              .join(df_battery_swaps_g_date.agg({'batt_in_soc':'std'}).rename(columns={'batt_in_soc': 'SOC_in_std'}))\n",
    "                              .join(df_battery_swaps_g_date.agg({'batt_out_soc':'mean'}).rename(columns={'batt_out_soc': 'SOC_out_mean'}))\n",
    "                              .join(df_battery_swaps_g_date.agg({'batt_out_soc':'max'}).rename(columns={'batt_out_soc': 'SOC_out_max'}))\n",
    "                              .join(df_battery_swaps_g_date.agg({'batt_out_soc':'min'}).rename(columns={'batt_out_soc': 'SOC_out_min'}))\n",
    "                             )\n",
    "df_swap_distrib_stats_date['prob'] = normalize(df_swap_distrib_stats_date['total_swaps'].values.reshape(1,-1), norm=\"l1\").reshape(-1,1)\n",
    "df_swap_distrib_stats_date.head()"
   ]
  },
  {
   "cell_type": "markdown",
   "id": "f2904b09",
   "metadata": {},
   "source": [
    "###  Swap counts and SOC distribution by *hour*"
   ]
  },
  {
   "cell_type": "code",
   "execution_count": null,
   "id": "89e28f5c",
   "metadata": {},
   "outputs": [],
   "source": [
    "df_battery_swaps_g_hr = df_battery_swaps.groupby(df_battery_swaps['hr_inc'])\n",
    "df_swap_distrib_stats_hr = df_battery_swaps_g_hr.size().to_frame(name='total_swaps')\n",
    "df_swap_distrib_stats_hr = (df_swap_distrib_stats_hr\n",
    "                            .join(df_battery_swaps_g_hr.agg({'batt_in_soc':'mean'}).rename(columns={'batt_in_soc': 'SOC_in_mean'}))\n",
    "                            .join(df_battery_swaps_g_hr.agg({'batt_in_soc':'max'}).rename(columns={'batt_in_soc': 'SOC_in_max'}))\n",
    "                            .join(df_battery_swaps_g_hr.agg({'batt_in_soc':'min'}).rename(columns={'batt_in_soc': 'SOC_in_min'}))\n",
    "                            .join(df_battery_swaps_g_hr.agg({'batt_in_soc':'std'}).rename(columns={'batt_in_soc': 'SOC_in_std'}))\n",
    "                            .join(df_battery_swaps_g_hr.agg({'batt_out_soc':'mean'}).rename(columns={'batt_out_soc': 'SOC_out_mean'}))\n",
    "                            .join(df_battery_swaps_g_hr.agg({'batt_out_soc':'max'}).rename(columns={'batt_out_soc': 'SOC_out_max'}))\n",
    "                            .join(df_battery_swaps_g_hr.agg({'batt_out_soc':'min'}).rename(columns={'batt_out_soc': 'SOC_out_min'}))\n",
    "                        )\n",
    "\n",
    "# Create a list and dataframe of all the hour values (i.e. 1-24)\n",
    "index_list_hr = np.arange(1,25,1)\n",
    "df_index_hr = pd.DataFrame(index=index_list_hr)\n",
    "\n",
    "# Join list of hours with swap distribution dataframe, so there is an entry for every hour\n",
    "df_swap_distrib_stats_hr = df_swap_distrib_stats_hr.join(df_index_hr,how='right')\n",
    "\n",
    "# Set total_swaps to zero in all hours where no swaps occurred (NaN values)\n",
    "df_swap_distrib_stats_hr['total_swaps'] = df_swap_distrib_stats_hr['total_swaps'].fillna(0)\n",
    "\n",
    "# Calculate probability for a swap occuring in each time increment\n",
    "df_swap_distrib_stats_hr['prob'] = normalize(df_swap_distrib_stats_hr['total_swaps'].values.reshape(1,-1), norm=\"l1\").reshape(-1,1)\n",
    "\n",
    "# Create spreadsheet of swap distribution statistics for use in other models\n",
    "df_swap_distrib_stats_hr.to_excel(\"swap_distrib_stats_hr.xlsx\", index_label='time_bin', na_rep='NA')\n",
    "\n",
    "# Display dataframe\n",
    "df_swap_distrib_stats_hr"
   ]
  },
  {
   "cell_type": "code",
   "execution_count": null,
   "id": "6a306777",
   "metadata": {},
   "outputs": [],
   "source": [
    "# Create bar plot of swap probabilities in each time increment\n",
    "df_swap_distrib_stats_hr['prob_percent'] = df_swap_distrib_stats_hr['prob']*100\n"
   ]
  },
  {
   "cell_type": "code",
   "execution_count": null,
   "id": "e2384f2e",
   "metadata": {},
   "outputs": [],
   "source": [
    "ax = df_swap_distrib_stats_hr.plot.bar(y='prob_percent', figsize=(8,3), legend=False, width=0.90, ylim=(0, 10), rot=45, color=\"blue\")\n",
    "# p.set_title('Battery swap probability distribution by hours of day')\n",
    "ax.set_xlabel(\"Time period (hours)\");\n",
    "ax.set_ylabel(\"Probability of swap occurring (%)\");\n",
    "ax.yaxis.grid(color='gray', linestyle='-')\n",
    "# ax.yaxis.set_major_formatter(plt.FormatStrFormatter('%.0f'))\n",
    "# ax.xaxis.set_major_formatter(plt.FormatStrFormatter('%.0f'))\n"
   ]
  },
  {
   "cell_type": "code",
   "execution_count": null,
   "id": "4e4c8861",
   "metadata": {},
   "outputs": [],
   "source": [
    "# ax.figure.savefig(\"images/Battery swap probability distribution by hours of day.png\", bbox_inches='tight')"
   ]
  },
  {
   "cell_type": "code",
   "execution_count": null,
   "id": "3f5e4523",
   "metadata": {},
   "outputs": [],
   "source": [
    "# Join dataframe of hours with battery_swap dataframe, so there is an entry for every hour\n",
    "df_hr_inc = pd.DataFrame(index_list_hr, columns=['hr_inc'])\n",
    "df_battery_swaps_hr = pd.merge(df_hr_inc,df_battery_swaps,how='left', on = 'hr_inc')\n",
    "\n",
    "# Create box plot of SOC values for each time increment\n",
    "boxplot_hr = df_battery_swaps_hr.boxplot(column=['batt_in_soc'], by = ['hr_inc'], \n",
    "                                      grid=False, rot=45, fontsize=10, figsize = [8,3])\n",
    "# boxplot_hr.set_title('Boxplot of arriving battery SOC values by hour')\n",
    "boxplot_hr.set_title('');\n",
    "boxplot_hr.set_xlabel(\"Time period (hours)\");\n",
    "boxplot_hr.set_ylabel(\"SOC of battery (%)\");\n",
    "boxplot_hr.get_figure().suptitle('');\n",
    "# boxplot_hr.yaxis.grid(color='gray', linestyle='-');\n",
    "boxplot_hr.set_ylim(-5, 100);"
   ]
  },
  {
   "cell_type": "code",
   "execution_count": null,
   "id": "152c4926",
   "metadata": {},
   "outputs": [],
   "source": [
    "# boxplot_hr.figure.savefig(\"images/Boxplot of arriving battery SOC values by hour.png\", bbox_inches='tight')"
   ]
  },
  {
   "cell_type": "markdown",
   "id": "e5db85b7",
   "metadata": {},
   "source": [
    "###  Swap counts and SOC distribution by *half hour*"
   ]
  },
  {
   "cell_type": "code",
   "execution_count": null,
   "id": "4b8fcb2d",
   "metadata": {},
   "outputs": [],
   "source": [
    "df_battery_swaps_g_30mins = df_battery_swaps.groupby(df_battery_swaps['30_mins_inc'])\n",
    "df_swap_distrib_stats_30mins = df_battery_swaps_g_30mins.size().to_frame(name='total_swaps')\n",
    "df_swap_distrib_stats_30mins = (df_swap_distrib_stats_30mins\n",
    "                                .join(df_battery_swaps_g_30mins.agg({'batt_in_soc':'mean'}).rename(columns={'batt_in_soc': 'SOC_in_mean'}))\n",
    "                                .join(df_battery_swaps_g_30mins.agg({'batt_in_soc':'max'}).rename(columns={'batt_in_soc': 'SOC_in_max'}))\n",
    "                                .join(df_battery_swaps_g_30mins.agg({'batt_in_soc':'min'}).rename(columns={'batt_in_soc': 'SOC_in_min'}))\n",
    "                                .join(df_battery_swaps_g_30mins.agg({'batt_in_soc':'std'}).rename(columns={'batt_in_soc': 'SOC_in_std'}))\n",
    "                                .join(df_battery_swaps_g_30mins.agg({'batt_out_soc':'mean'}).rename(columns={'batt_out_soc': 'SOC_out_mean'}))\n",
    "                                .join(df_battery_swaps_g_30mins.agg({'batt_out_soc':'max'}).rename(columns={'batt_out_soc': 'SOC_out_max'}))\n",
    "                                .join(df_battery_swaps_g_30mins.agg({'batt_out_soc':'min'}).rename(columns={'batt_out_soc': 'SOC_out_min'}))\n",
    "                        )\n",
    "\n",
    "# Create a list and dataframe of all the half-hour values (i.e. 0.5-24)\n",
    "index_list_30mins = np.arange(0.5,24.5,0.5)\n",
    "df_index_30mins = pd.DataFrame(index=index_list_30mins)\n",
    "# Join list of 30 min increments with swap distribution dataframe, so there is an entry for every half-hour\n",
    "df_swap_distrib_stats_30mins = df_swap_distrib_stats_30mins.join(df_index_30mins,how='right')\n",
    "# Set total_swaps to zero in all time increments where no swaps occurred (NaN values)\n",
    "df_swap_distrib_stats_30mins['total_swaps'] = df_swap_distrib_stats_30mins['total_swaps'].fillna(0)\n",
    "# Calculate probability for a swap occuring in each time increment\n",
    "df_swap_distrib_stats_30mins['prob'] = normalize(df_swap_distrib_stats_30mins['total_swaps'].values.reshape(1,-1), norm=\"l1\").reshape(-1,1)\n",
    "# Create spreadsheet of swap distribution statistics for use in other models\n",
    "df_swap_distrib_stats_30mins.to_excel(\"swap_distrib_stats_30mins.xlsx\", index_label='time_bin', na_rep='NA')\n",
    "# Display dataframe\n",
    "df_swap_distrib_stats_30mins.head()"
   ]
  },
  {
   "cell_type": "code",
   "execution_count": null,
   "id": "2725f078",
   "metadata": {},
   "outputs": [],
   "source": [
    "# Create bar plot of swap probabilities in each time increment\n",
    "df_swap_distrib_stats_30mins['prob_percent'] = df_swap_distrib_stats_30mins['prob']*100\n"
   ]
  },
  {
   "cell_type": "code",
   "execution_count": null,
   "id": "c0329e1b",
   "metadata": {},
   "outputs": [],
   "source": [
    "ax = df_swap_distrib_stats_30mins.plot.bar(y='prob_percent', figsize=(10,3), legend=False, width=0.8, ylim=(0,6), rot=90)\n",
    "# ax.set_title('Battery swap probability distribution for every 30 mins of day')\n",
    "ax.set_title('')\n",
    "ax.set_xlabel(\"Time period (hours)\");\n",
    "ax.set_ylabel(\"Probability of swap occurring (%)\");\n",
    "ax.yaxis.grid(color='gray', linestyle='-')"
   ]
  },
  {
   "cell_type": "code",
   "execution_count": null,
   "id": "252d9a7c",
   "metadata": {},
   "outputs": [],
   "source": [
    "# ax.figure.savefig(\"images/Battery swap probability distribution by half-hours of day.png\", bbox_inches='tight')"
   ]
  },
  {
   "cell_type": "code",
   "execution_count": null,
   "id": "4b1df70c",
   "metadata": {},
   "outputs": [],
   "source": [
    "# Join dataframe of 30 min increments with battery_swap dataframe, so there is an entry for every half-hour\n",
    "df_30_mins_inc = pd.DataFrame(index_list_30mins, columns=['30_mins_inc'])\n",
    "df_battery_swaps_30_mins = pd.merge(df_30_mins_inc,df_battery_swaps,how='left', on = '30_mins_inc')\n",
    "\n",
    "# Create box plot of SOC values for each time increment\n",
    "boxplot_30mins = df_battery_swaps_30_mins.boxplot(column=['batt_in_soc'], by = ['30_mins_inc'], \n",
    "                                          grid=False, rot=90, fontsize=8, figsize = [12,5])\n",
    "# boxplot_30mins.set_title('Boxplot of arriving battery SOC values by 30 minute increments')\n",
    "boxplot_30mins.set_xlabel(\"30 minute increments\");\n",
    "boxplot_30mins.set_ylabel(\"SOC of battery (%)\");\n",
    "boxplot_30mins.get_figure().suptitle('');"
   ]
  },
  {
   "cell_type": "code",
   "execution_count": null,
   "id": "ae86da79",
   "metadata": {},
   "outputs": [],
   "source": [
    "# boxplot_30mins.figure.savefig(\"images/Boxplot of arriving battery SOC values by 30 mins.png\", bbox_inches='tight')"
   ]
  },
  {
   "cell_type": "markdown",
   "id": "69eb6b65",
   "metadata": {},
   "source": [
    "###  Swap counts and SOC distribution by *15 minute increments*"
   ]
  },
  {
   "cell_type": "code",
   "execution_count": null,
   "id": "129c518d",
   "metadata": {},
   "outputs": [],
   "source": [
    "df_battery_swaps_g_15mins = df_battery_swaps.groupby(df_battery_swaps['15_mins_inc'])\n",
    "df_swap_distrib_stats_15mins = df_battery_swaps_g_15mins.size().to_frame(name='total_swaps')\n",
    "df_swap_distrib_stats_15mins = (df_swap_distrib_stats_15mins\n",
    "                                .join(df_battery_swaps_g_15mins.agg({'batt_in_soc':'mean'}).rename(columns={'batt_in_soc': 'SOC_in_mean'}))\n",
    "                                .join(df_battery_swaps_g_15mins.agg({'batt_in_soc':'max'}).rename(columns={'batt_in_soc': 'SOC_in_max'}))\n",
    "                                .join(df_battery_swaps_g_15mins.agg({'batt_in_soc':'min'}).rename(columns={'batt_in_soc': 'SOC_in_min'}))\n",
    "                                .join(df_battery_swaps_g_15mins.agg({'batt_in_soc':'std'}).rename(columns={'batt_in_soc': 'SOC_in_std'}))\n",
    "                                .join(df_battery_swaps_g_15mins.agg({'batt_out_soc':'mean'}).rename(columns={'batt_out_soc': 'SOC_out_mean'}))\n",
    "                                .join(df_battery_swaps_g_15mins.agg({'batt_out_soc':'max'}).rename(columns={'batt_out_soc': 'SOC_out_max'}))\n",
    "                                .join(df_battery_swaps_g_15mins.agg({'batt_out_soc':'min'}).rename(columns={'batt_out_soc': 'SOC_out_min'}))\n",
    "                        )\n",
    "\n",
    "# Create a list and dataframe of all the 15 min values (i.e. 0.25-24)\n",
    "index_list_15mins = np.arange(0.25,24.25,0.25)\n",
    "df_index_15mins = pd.DataFrame(index=index_list_15mins)\n",
    "# Join list of 15 min increments with swap distribution dataframe, so there is an entry for every 15 mins\n",
    "df_swap_distrib_stats_15mins = df_swap_distrib_stats_15mins.join(df_index_15mins,how='right')\n",
    "# Set total_swaps to zero in all time increments where no swaps occurred (NaN values)\n",
    "df_swap_distrib_stats_15mins['total_swaps'] = df_swap_distrib_stats_15mins['total_swaps'].fillna(0)\n",
    "# Calculate probability for a swap occuring in each time increment\n",
    "df_swap_distrib_stats_15mins['prob'] = normalize(df_swap_distrib_stats_15mins['total_swaps'].values.reshape(1,-1), norm=\"l1\").reshape(-1,1)\n",
    "# Create spreadsheet of swap distribution statistics for use in other models\n",
    "df_swap_distrib_stats_15mins.to_excel(\"swap_distrib_stats_15mins.xlsx\", index_label='time_bin', na_rep='NA')\n",
    "# Display dataframe\n",
    "df_swap_distrib_stats_15mins.head()"
   ]
  },
  {
   "cell_type": "code",
   "execution_count": null,
   "id": "3c83be6c",
   "metadata": {},
   "outputs": [],
   "source": [
    "# Create bar plot of swap probabilities in each time increment\n",
    "df_swap_distrib_stats_15mins['prob_percent']=df_swap_distrib_stats_15mins['prob']*100\n",
    "px = df_swap_distrib_stats_15mins.plot.bar(y='prob_percent', figsize=(20,8), legend=False)\n",
    "# ax.set_title('Battery swap probability distribution for every 15 mins of day')\n",
    "ax.set_xlabel(\"Time period (hours)\");\n",
    "ax.set_ylabel(\"Probability of swap occurring (%)\");"
   ]
  },
  {
   "cell_type": "code",
   "execution_count": null,
   "id": "e39d69d4",
   "metadata": {},
   "outputs": [],
   "source": [
    "# ax.figure.savefig(\"images/Battery swap probability distribution by hours of day.png\", bbox_inches='tight')"
   ]
  },
  {
   "cell_type": "code",
   "execution_count": null,
   "id": "2015aa91",
   "metadata": {},
   "outputs": [],
   "source": [
    "# Join dataframe of 15 min increments with battery_swap dataframe, so there is an entry for every 15 mins\n",
    "df_15_mins_inc = pd.DataFrame(index_list_15mins, columns=['15_mins_inc'])\n",
    "df_battery_swaps_15_mins = pd.merge(df_15_mins_inc,df_battery_swaps,how='left', on = '15_mins_inc')\n",
    "\n",
    "# Create box plot of SOC values for each time increment\n",
    "boxplot_15mins = df_battery_swaps_15_mins.boxplot(column=['batt_in_soc'], by = ['15_mins_inc'], \n",
    "                                          grid=False, rot=90, fontsize=8, figsize = [12,5])\n",
    "# boxplot_15mins.set_title('Boxplot of arriving battery SOC values by 15 minute increments')\n",
    "boxplot_15mins.set_xlabel(\"Time period (hours)\");\n",
    "boxplot_15mins.set_ylabel(\"SOC of battery (%)\");\n",
    "boxplot_15mins.get_figure().suptitle('');"
   ]
  },
  {
   "cell_type": "code",
   "execution_count": null,
   "id": "b26f76b5",
   "metadata": {},
   "outputs": [],
   "source": [
    "# boxplot_15mins.figure.savefig(\"images/Boxplot of arriving battery SOC values by 15 mins.png\", bbox_inches='tight')"
   ]
  },
  {
   "cell_type": "markdown",
   "id": "6feb4a8d",
   "metadata": {},
   "source": [
    "## 4. Additional methods to select data between different dates or times\n",
    "\n",
    "These methods were not used in this analysis but may be helful for any exploratory data analysis."
   ]
  },
  {
   "cell_type": "markdown",
   "id": "bfc0f786",
   "metadata": {},
   "source": [
    "### Method to select dataframe rows between two different times"
   ]
  },
  {
   "cell_type": "code",
   "execution_count": null,
   "id": "1f36360f",
   "metadata": {},
   "outputs": [],
   "source": [
    "start_time = '6:00'\n",
    "end_time = '18:00'\n",
    "df_between_times = df_battery_swaps.between_time(start_time, end_time)\n",
    "df_between_times"
   ]
  },
  {
   "cell_type": "markdown",
   "id": "e426cdb9",
   "metadata": {},
   "source": [
    "### Method to select dataframe rows between two different dates"
   ]
  },
  {
   "cell_type": "code",
   "execution_count": null,
   "id": "fb299e49",
   "metadata": {},
   "outputs": [],
   "source": [
    "start_date = '2022-12-01'\n",
    "end_date = '2022-12-30'\n",
    "mask = (df_battery_swaps.index > start_date) & (df_battery_swaps.index <= end_date)\n",
    "df_between_dates = df_battery_swaps.loc[mask]\n",
    "df_between_dates"
   ]
  }
 ],
 "metadata": {
  "kernelspec": {
   "display_name": "Python 3 (ipykernel)",
   "language": "python",
   "name": "python3"
  },
  "language_info": {
   "codemirror_mode": {
    "name": "ipython",
    "version": 3
   },
   "file_extension": ".py",
   "mimetype": "text/x-python",
   "name": "python",
   "nbconvert_exporter": "python",
   "pygments_lexer": "ipython3",
   "version": "3.9.13"
  }
 },
 "nbformat": 4,
 "nbformat_minor": 5
}
